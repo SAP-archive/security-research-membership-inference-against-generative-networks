{
 "cells": [
  {
   "cell_type": "code",
   "execution_count": 3,
   "metadata": {},
   "outputs": [],
   "source": [
    "import numpy as np\n",
    "import pandas as pd\n",
    "import matplotlib.pyplot as plt\n",
    "\n",
    "dt = np.dtype([('instance_no', int),\n",
    "               ('exp_no', int),\n",
    "               ('method', int), # 1 = white box, 2 = euclidean_PCA, 3 = hog, 4 = euclidean_PCA category, 5 = hog category, 6 = ais\n",
    "               ('pca_n', int),\n",
    "               ('percentage_of_data', float),\n",
    "               ('percentile', float),\n",
    "               ('mc_euclidean_no_batches', int), # stuff\n",
    "               ('mc_hog_no_batches', int), # stuff\n",
    "               ('sigma_ais', float),\n",
    "               ('mc_attack_log', float),\n",
    "               ('mc_attack_eps', float),\n",
    "               ('mc_attack_frac', float), \n",
    "               ('mc_attack_log_50', float), \n",
    "               ('mc_attack_eps_50', float),\n",
    "               ('mc_attack_frac_50', float),\n",
    "               ('white_box_50', float),\n",
    "               ('white_box_11', float),\n",
    "               ('ais_50', float),\n",
    "               ('ais_acc_rate_50', float),\n",
    "               ('successful_sum_attack_1', float),\n",
    "               ('successful_sum_attack_2', float),\n",
    "               ('successful_sum_attack_3', float),\n",
    "              ])"
   ]
  },
  {
   "cell_type": "code",
   "execution_count": 4,
   "metadata": {
    "scrolled": true
   },
   "outputs": [],
   "source": [
    "data = pd.DataFrame(np.loadtxt('CIFAR10_MC_ATTACK.csv', dtype=dt))\n",
    "\n",
    "\n",
    "data = data.assign(mem_inf_adv_mc_log = lambda x: (x.mc_attack_log_50-0.5)*2)\n",
    "data = data.assign(mem_inf_adv_mc_ones = lambda x: (x.mc_attack_eps_50-0.5)*2)\n",
    "data = data.assign(mem_inf_adv_wb = lambda x: (x.white_box_50-0.5)*2)\n",
    "data = data.assign(mem_inf_adv_ais = lambda x: (x.ais_50-0.5)*2)\n",
    "\n",
    "def convert_to_set_prob(x):\n",
    "    prob = np.zeros((len(x),))\n",
    "    for i in range(len(x)):\n",
    "        if x[i] > 0:\n",
    "            prob[i] = 1\n",
    "        elif x[i] == 0:\n",
    "            prob[i] = 0.5\n",
    "        elif x[i] < 0:\n",
    "            prob[i] = 0\n",
    "    return prob\n",
    "\n",
    "data = data.assign(set_accuracy_mc_log = lambda x: convert_to_set_prob(x.mem_inf_adv_mc_log))\n",
    "data = data.assign(set_accuracy_mc_ones = lambda x: convert_to_set_prob(x.mem_inf_adv_mc_ones))\n",
    "data = data.assign(set_accuracy_wb = lambda x: convert_to_set_prob(x.mem_inf_adv_wb))\n",
    "data = data.assign(set_accuracy_ais = lambda x: convert_to_set_prob(x.mem_inf_adv_ais))\n",
    "\n",
    "data = data.assign(set_mem_inf_adv_mc_log = lambda x: 2*x.set_accuracy_mc_log-1)\n",
    "data = data.assign(set_mem_inf_adv_mc_ones = lambda x: 2*x.set_accuracy_mc_ones-1)\n",
    "data = data.assign(set_mem_inf_adv_wb = lambda x: 2*x.set_accuracy_wb-1)\n",
    "data = data.assign(set_mem_inf_adv_ais = lambda x: 2*x.set_accuracy_ais-1)\n",
    "\n",
    "white_box = data[data.method == 1]\n",
    "pca = data[data.method == 2]\n",
    "hog = data[data.method == 3]\n",
    "pca_cat = data[data.method == 4]\n",
    "hog_cat = data[data.method == 5]\n",
    "ais = data[data.method == 6]\n",
    "color_hist = data[data.method == 8]\n",
    "\n"
   ]
  },
  {
   "cell_type": "markdown",
   "metadata": {},
   "source": [
    "# White Box"
   ]
  },
  {
   "cell_type": "code",
   "execution_count": 5,
   "metadata": {},
   "outputs": [
    {
     "data": {
      "text/plain": [
       "0"
      ]
     },
     "execution_count": 5,
     "metadata": {},
     "output_type": "execute_result"
    }
   ],
   "source": [
    "len(white_box)"
   ]
  },
  {
   "cell_type": "code",
   "execution_count": 6,
   "metadata": {},
   "outputs": [
    {
     "name": "stdout",
     "output_type": "stream",
     "text": [
      "nan$\\pm$nan\n",
      "nan$\\pm$nan\n"
     ]
    }
   ],
   "source": [
    "print(str(np.round(100*white_box.white_box_50.mean(),2))+'$\\pm$'+str(np.round(100*white_box.white_box_50.std()/np.sqrt(white_box.white_box_50.count()),2)))\n",
    "print(str(np.round(100*white_box.set_accuracy_wb.mean(),2))+'$\\pm$'+str(np.round(100*white_box.set_accuracy_wb.std()/np.sqrt(white_box.set_accuracy_wb.count()),2)))"
   ]
  },
  {
   "cell_type": "markdown",
   "metadata": {},
   "source": [
    "# AIS"
   ]
  },
  {
   "cell_type": "code",
   "execution_count": 7,
   "metadata": {},
   "outputs": [
    {
     "name": "stdout",
     "output_type": "stream",
     "text": [
      "nan\n",
      "nan\n"
     ]
    }
   ],
   "source": [
    "print(ais.mem_inf_adv_ais.mean())\n",
    "print(ais.set_accuracy_ais.mean())"
   ]
  },
  {
   "cell_type": "markdown",
   "metadata": {},
   "source": [
    "# PCA\n",
    "0.1 mc_attack_log_50"
   ]
  },
  {
   "cell_type": "code",
   "execution_count": 8,
   "metadata": {},
   "outputs": [
    {
     "data": {
      "text/plain": [
       "array([40], dtype=int64)"
      ]
     },
     "execution_count": 8,
     "metadata": {},
     "output_type": "execute_result"
    }
   ],
   "source": [
    "pca.pca_n.unique()"
   ]
  },
  {
   "cell_type": "code",
   "execution_count": 17,
   "metadata": {},
   "outputs": [
    {
     "name": "stdout",
     "output_type": "stream",
     "text": [
      "0.7142857142857143\n",
      "0.7142857142857143\n"
     ]
    }
   ],
   "source": [
    "pca_opt_dim = pca[pca.pca_n == 40]\n",
    "\n",
    "opt_perc = -1\n",
    "\n",
    "print(pca_opt_dim[pca_opt_dim.percentile == opt_perc].set_accuracy_mc_log.mean())\n",
    "print(pca_opt_dim[pca_opt_dim.percentile == opt_perc].set_accuracy_mc_ones.mean())"
   ]
  },
  {
   "cell_type": "code",
   "execution_count": 11,
   "metadata": {},
   "outputs": [
    {
     "data": {
      "text/html": [
       "<div>\n",
       "<style scoped>\n",
       "    .dataframe tbody tr th:only-of-type {\n",
       "        vertical-align: middle;\n",
       "    }\n",
       "\n",
       "    .dataframe tbody tr th {\n",
       "        vertical-align: top;\n",
       "    }\n",
       "\n",
       "    .dataframe thead th {\n",
       "        text-align: right;\n",
       "    }\n",
       "</style>\n",
       "<table border=\"1\" class=\"dataframe\">\n",
       "  <thead>\n",
       "    <tr style=\"text-align: right;\">\n",
       "      <th></th>\n",
       "      <th>set_accuracy_mc_ones</th>\n",
       "      <th>set_accuracy_mc_log</th>\n",
       "      <th>successful_sum_attack_1</th>\n",
       "      <th>successful_sum_attack_2</th>\n",
       "    </tr>\n",
       "    <tr>\n",
       "      <th>percentile</th>\n",
       "      <th></th>\n",
       "      <th></th>\n",
       "      <th></th>\n",
       "      <th></th>\n",
       "    </tr>\n",
       "  </thead>\n",
       "  <tbody>\n",
       "    <tr>\n",
       "      <th>-1.0</th>\n",
       "      <td>71.428571</td>\n",
       "      <td>71.428571</td>\n",
       "      <td>52.380952</td>\n",
       "      <td>52.380952</td>\n",
       "    </tr>\n",
       "  </tbody>\n",
       "</table>\n",
       "</div>"
      ],
      "text/plain": [
       "            set_accuracy_mc_ones  set_accuracy_mc_log  \\\n",
       "percentile                                              \n",
       "-1.0                   71.428571            71.428571   \n",
       "\n",
       "            successful_sum_attack_1  successful_sum_attack_2  \n",
       "percentile                                                    \n",
       "-1.0                      52.380952                52.380952  "
      ]
     },
     "execution_count": 11,
     "metadata": {},
     "output_type": "execute_result"
    }
   ],
   "source": [
    "100*pca_opt_dim.groupby(['percentile']).mean()[['set_accuracy_mc_ones','set_accuracy_mc_log','successful_sum_attack_1','successful_sum_attack_2']]"
   ]
  },
  {
   "cell_type": "code",
   "execution_count": 12,
   "metadata": {},
   "outputs": [
    {
     "data": {
      "text/html": [
       "<div>\n",
       "<style scoped>\n",
       "    .dataframe tbody tr th:only-of-type {\n",
       "        vertical-align: middle;\n",
       "    }\n",
       "\n",
       "    .dataframe tbody tr th {\n",
       "        vertical-align: top;\n",
       "    }\n",
       "\n",
       "    .dataframe thead th {\n",
       "        text-align: right;\n",
       "    }\n",
       "</style>\n",
       "<table border=\"1\" class=\"dataframe\">\n",
       "  <thead>\n",
       "    <tr style=\"text-align: right;\">\n",
       "      <th></th>\n",
       "      <th>set_accuracy_mc_ones</th>\n",
       "      <th>set_accuracy_mc_log</th>\n",
       "      <th>successful_sum_attack_1</th>\n",
       "      <th>successful_sum_attack_2</th>\n",
       "    </tr>\n",
       "    <tr>\n",
       "      <th>percentile</th>\n",
       "      <th></th>\n",
       "      <th></th>\n",
       "      <th></th>\n",
       "      <th></th>\n",
       "    </tr>\n",
       "  </thead>\n",
       "  <tbody>\n",
       "    <tr>\n",
       "      <th>-1.0</th>\n",
       "      <td>10.1</td>\n",
       "      <td>10.1</td>\n",
       "      <td>11.17</td>\n",
       "      <td>11.17</td>\n",
       "    </tr>\n",
       "  </tbody>\n",
       "</table>\n",
       "</div>"
      ],
      "text/plain": [
       "            set_accuracy_mc_ones  set_accuracy_mc_log  \\\n",
       "percentile                                              \n",
       "-1.0                        10.1                 10.1   \n",
       "\n",
       "            successful_sum_attack_1  successful_sum_attack_2  \n",
       "percentile                                                    \n",
       "-1.0                          11.17                    11.17  "
      ]
     },
     "execution_count": 12,
     "metadata": {},
     "output_type": "execute_result"
    }
   ],
   "source": [
    "np.round(pca_opt_dim.groupby(['percentile']).std()[['set_accuracy_mc_ones','set_accuracy_mc_log','successful_sum_attack_1','successful_sum_attack_2']]*100\n",
    "/np.sqrt(pca_opt_dim.groupby(['percentile']).count()[['set_accuracy_mc_ones','set_accuracy_mc_log','successful_sum_attack_1','successful_sum_attack_2']]),2)"
   ]
  },
  {
   "cell_type": "code",
   "execution_count": 13,
   "metadata": {},
   "outputs": [
    {
     "data": {
      "text/html": [
       "<div>\n",
       "<style scoped>\n",
       "    .dataframe tbody tr th:only-of-type {\n",
       "        vertical-align: middle;\n",
       "    }\n",
       "\n",
       "    .dataframe tbody tr th {\n",
       "        vertical-align: top;\n",
       "    }\n",
       "\n",
       "    .dataframe thead th {\n",
       "        text-align: right;\n",
       "    }\n",
       "</style>\n",
       "<table border=\"1\" class=\"dataframe\">\n",
       "  <thead>\n",
       "    <tr style=\"text-align: right;\">\n",
       "      <th></th>\n",
       "      <th>mc_attack_log_50</th>\n",
       "      <th>mc_attack_eps_50</th>\n",
       "    </tr>\n",
       "    <tr>\n",
       "      <th>percentile</th>\n",
       "      <th></th>\n",
       "      <th></th>\n",
       "    </tr>\n",
       "  </thead>\n",
       "  <tbody>\n",
       "    <tr>\n",
       "      <th>-1.0</th>\n",
       "      <td>51.9</td>\n",
       "      <td>51.9</td>\n",
       "    </tr>\n",
       "  </tbody>\n",
       "</table>\n",
       "</div>"
      ],
      "text/plain": [
       "            mc_attack_log_50  mc_attack_eps_50\n",
       "percentile                                    \n",
       "-1.0                    51.9              51.9"
      ]
     },
     "execution_count": 13,
     "metadata": {},
     "output_type": "execute_result"
    }
   ],
   "source": [
    "np.round(100*pca_opt_dim.groupby(['percentile']).mean()[['mc_attack_log_50','mc_attack_eps_50']],2)"
   ]
  },
  {
   "cell_type": "code",
   "execution_count": 14,
   "metadata": {},
   "outputs": [
    {
     "data": {
      "text/html": [
       "<div>\n",
       "<style scoped>\n",
       "    .dataframe tbody tr th:only-of-type {\n",
       "        vertical-align: middle;\n",
       "    }\n",
       "\n",
       "    .dataframe tbody tr th {\n",
       "        vertical-align: top;\n",
       "    }\n",
       "\n",
       "    .dataframe thead th {\n",
       "        text-align: right;\n",
       "    }\n",
       "</style>\n",
       "<table border=\"1\" class=\"dataframe\">\n",
       "  <thead>\n",
       "    <tr style=\"text-align: right;\">\n",
       "      <th></th>\n",
       "      <th>mc_attack_log_50</th>\n",
       "      <th>mc_attack_eps_50</th>\n",
       "      <th>successful_sum_attack_1</th>\n",
       "      <th>successful_sum_attack_2</th>\n",
       "    </tr>\n",
       "    <tr>\n",
       "      <th>percentile</th>\n",
       "      <th></th>\n",
       "      <th></th>\n",
       "      <th></th>\n",
       "      <th></th>\n",
       "    </tr>\n",
       "  </thead>\n",
       "  <tbody>\n",
       "    <tr>\n",
       "      <th>-1.0</th>\n",
       "      <td>0.7</td>\n",
       "      <td>0.7</td>\n",
       "      <td>11.17</td>\n",
       "      <td>11.17</td>\n",
       "    </tr>\n",
       "  </tbody>\n",
       "</table>\n",
       "</div>"
      ],
      "text/plain": [
       "            mc_attack_log_50  mc_attack_eps_50  successful_sum_attack_1  \\\n",
       "percentile                                                                \n",
       "-1.0                     0.7               0.7                    11.17   \n",
       "\n",
       "            successful_sum_attack_2  \n",
       "percentile                           \n",
       "-1.0                          11.17  "
      ]
     },
     "execution_count": 14,
     "metadata": {},
     "output_type": "execute_result"
    }
   ],
   "source": [
    "np.round(pca_opt_dim.groupby(['percentile']).std()[['mc_attack_log_50','mc_attack_eps_50','successful_sum_attack_1','successful_sum_attack_2']]*100\n",
    "/np.sqrt(pca_opt_dim.groupby(['percentile']).count()[['mc_attack_log_50','mc_attack_eps_50','successful_sum_attack_1','successful_sum_attack_2']]),2)"
   ]
  },
  {
   "cell_type": "markdown",
   "metadata": {},
   "source": [
    "# Color Histogram\n",
    "0.1 mc_attack_log_50"
   ]
  },
  {
   "cell_type": "code",
   "execution_count": 19,
   "metadata": {},
   "outputs": [
    {
     "name": "stdout",
     "output_type": "stream",
     "text": [
      "0.42857142857142855\n",
      "0.42857142857142855\n",
      "0.47619047619047616\n",
      "0.5238095238095238\n"
     ]
    }
   ],
   "source": [
    "color_hist\n",
    "\n",
    "opt_perc = -1\n",
    "\n",
    "print(color_hist[color_hist.percentile == opt_perc].set_accuracy_mc_log.mean())\n",
    "print(color_hist[color_hist.percentile == opt_perc].set_accuracy_mc_ones.mean())\n",
    "print(color_hist[color_hist.percentile == opt_perc].successful_sum_attack_1.mean())\n",
    "print(color_hist[color_hist.percentile == opt_perc].successful_sum_attack_2.mean())"
   ]
  },
  {
   "cell_type": "code",
   "execution_count": 20,
   "metadata": {},
   "outputs": [
    {
     "data": {
      "text/html": [
       "<div>\n",
       "<style scoped>\n",
       "    .dataframe tbody tr th:only-of-type {\n",
       "        vertical-align: middle;\n",
       "    }\n",
       "\n",
       "    .dataframe tbody tr th {\n",
       "        vertical-align: top;\n",
       "    }\n",
       "\n",
       "    .dataframe thead th {\n",
       "        text-align: right;\n",
       "    }\n",
       "</style>\n",
       "<table border=\"1\" class=\"dataframe\">\n",
       "  <thead>\n",
       "    <tr style=\"text-align: right;\">\n",
       "      <th></th>\n",
       "      <th>set_accuracy_mc_ones</th>\n",
       "      <th>set_accuracy_mc_log</th>\n",
       "      <th>successful_sum_attack_1</th>\n",
       "      <th>successful_sum_attack_2</th>\n",
       "    </tr>\n",
       "    <tr>\n",
       "      <th>percentile</th>\n",
       "      <th></th>\n",
       "      <th></th>\n",
       "      <th></th>\n",
       "      <th></th>\n",
       "    </tr>\n",
       "  </thead>\n",
       "  <tbody>\n",
       "    <tr>\n",
       "      <th>-1.0</th>\n",
       "      <td>42.86</td>\n",
       "      <td>42.86</td>\n",
       "      <td>47.62</td>\n",
       "      <td>52.38</td>\n",
       "    </tr>\n",
       "  </tbody>\n",
       "</table>\n",
       "</div>"
      ],
      "text/plain": [
       "            set_accuracy_mc_ones  set_accuracy_mc_log  \\\n",
       "percentile                                              \n",
       "-1.0                       42.86                42.86   \n",
       "\n",
       "            successful_sum_attack_1  successful_sum_attack_2  \n",
       "percentile                                                    \n",
       "-1.0                          47.62                    52.38  "
      ]
     },
     "execution_count": 20,
     "metadata": {},
     "output_type": "execute_result"
    }
   ],
   "source": [
    "np.round(100*color_hist.groupby(['percentile']).mean()[['set_accuracy_mc_ones','set_accuracy_mc_log','successful_sum_attack_1','successful_sum_attack_2']],2)"
   ]
  },
  {
   "cell_type": "code",
   "execution_count": 21,
   "metadata": {},
   "outputs": [
    {
     "data": {
      "text/html": [
       "<div>\n",
       "<style scoped>\n",
       "    .dataframe tbody tr th:only-of-type {\n",
       "        vertical-align: middle;\n",
       "    }\n",
       "\n",
       "    .dataframe tbody tr th {\n",
       "        vertical-align: top;\n",
       "    }\n",
       "\n",
       "    .dataframe thead th {\n",
       "        text-align: right;\n",
       "    }\n",
       "</style>\n",
       "<table border=\"1\" class=\"dataframe\">\n",
       "  <thead>\n",
       "    <tr style=\"text-align: right;\">\n",
       "      <th></th>\n",
       "      <th>set_accuracy_mc_ones</th>\n",
       "      <th>set_accuracy_mc_log</th>\n",
       "      <th>successful_sum_attack_1</th>\n",
       "      <th>successful_sum_attack_2</th>\n",
       "    </tr>\n",
       "    <tr>\n",
       "      <th>percentile</th>\n",
       "      <th></th>\n",
       "      <th></th>\n",
       "      <th></th>\n",
       "      <th></th>\n",
       "    </tr>\n",
       "  </thead>\n",
       "  <tbody>\n",
       "    <tr>\n",
       "      <th>-1.0</th>\n",
       "      <td>10.51</td>\n",
       "      <td>10.51</td>\n",
       "      <td>11.17</td>\n",
       "      <td>11.17</td>\n",
       "    </tr>\n",
       "  </tbody>\n",
       "</table>\n",
       "</div>"
      ],
      "text/plain": [
       "            set_accuracy_mc_ones  set_accuracy_mc_log  \\\n",
       "percentile                                              \n",
       "-1.0                       10.51                10.51   \n",
       "\n",
       "            successful_sum_attack_1  successful_sum_attack_2  \n",
       "percentile                                                    \n",
       "-1.0                          11.17                    11.17  "
      ]
     },
     "execution_count": 21,
     "metadata": {},
     "output_type": "execute_result"
    }
   ],
   "source": [
    "np.round(color_hist.groupby(['percentile']).std()[['set_accuracy_mc_ones','set_accuracy_mc_log','successful_sum_attack_1','successful_sum_attack_2']]*100\n",
    "/np.sqrt(color_hist.groupby(['percentile']).count()[['set_accuracy_mc_ones','set_accuracy_mc_log','successful_sum_attack_1','successful_sum_attack_2']]),2)"
   ]
  },
  {
   "cell_type": "code",
   "execution_count": 22,
   "metadata": {},
   "outputs": [
    {
     "data": {
      "text/html": [
       "<div>\n",
       "<style scoped>\n",
       "    .dataframe tbody tr th:only-of-type {\n",
       "        vertical-align: middle;\n",
       "    }\n",
       "\n",
       "    .dataframe tbody tr th {\n",
       "        vertical-align: top;\n",
       "    }\n",
       "\n",
       "    .dataframe thead th {\n",
       "        text-align: right;\n",
       "    }\n",
       "</style>\n",
       "<table border=\"1\" class=\"dataframe\">\n",
       "  <thead>\n",
       "    <tr style=\"text-align: right;\">\n",
       "      <th></th>\n",
       "      <th>mc_attack_log_50</th>\n",
       "      <th>mc_attack_eps_50</th>\n",
       "    </tr>\n",
       "    <tr>\n",
       "      <th>percentile</th>\n",
       "      <th></th>\n",
       "      <th></th>\n",
       "    </tr>\n",
       "  </thead>\n",
       "  <tbody>\n",
       "    <tr>\n",
       "      <th>-1.0</th>\n",
       "      <td>49.57</td>\n",
       "      <td>49.57</td>\n",
       "    </tr>\n",
       "  </tbody>\n",
       "</table>\n",
       "</div>"
      ],
      "text/plain": [
       "            mc_attack_log_50  mc_attack_eps_50\n",
       "percentile                                    \n",
       "-1.0                   49.57             49.57"
      ]
     },
     "execution_count": 22,
     "metadata": {},
     "output_type": "execute_result"
    }
   ],
   "source": [
    "np.round(100*color_hist.groupby(['percentile']).mean()[['mc_attack_log_50','mc_attack_eps_50']],2)"
   ]
  },
  {
   "cell_type": "code",
   "execution_count": 23,
   "metadata": {},
   "outputs": [
    {
     "data": {
      "text/html": [
       "<div>\n",
       "<style scoped>\n",
       "    .dataframe tbody tr th:only-of-type {\n",
       "        vertical-align: middle;\n",
       "    }\n",
       "\n",
       "    .dataframe tbody tr th {\n",
       "        vertical-align: top;\n",
       "    }\n",
       "\n",
       "    .dataframe thead th {\n",
       "        text-align: right;\n",
       "    }\n",
       "</style>\n",
       "<table border=\"1\" class=\"dataframe\">\n",
       "  <thead>\n",
       "    <tr style=\"text-align: right;\">\n",
       "      <th></th>\n",
       "      <th>mc_attack_log_50</th>\n",
       "      <th>set_accuracy_mc_log</th>\n",
       "      <th>successful_sum_attack_1</th>\n",
       "      <th>successful_sum_attack_2</th>\n",
       "    </tr>\n",
       "    <tr>\n",
       "      <th>percentile</th>\n",
       "      <th></th>\n",
       "      <th></th>\n",
       "      <th></th>\n",
       "      <th></th>\n",
       "    </tr>\n",
       "  </thead>\n",
       "  <tbody>\n",
       "    <tr>\n",
       "      <th>-1.0</th>\n",
       "      <td>0.67</td>\n",
       "      <td>10.51</td>\n",
       "      <td>11.17</td>\n",
       "      <td>11.17</td>\n",
       "    </tr>\n",
       "  </tbody>\n",
       "</table>\n",
       "</div>"
      ],
      "text/plain": [
       "            mc_attack_log_50  set_accuracy_mc_log  successful_sum_attack_1  \\\n",
       "percentile                                                                   \n",
       "-1.0                    0.67                10.51                    11.17   \n",
       "\n",
       "            successful_sum_attack_2  \n",
       "percentile                           \n",
       "-1.0                          11.17  "
      ]
     },
     "execution_count": 23,
     "metadata": {},
     "output_type": "execute_result"
    }
   ],
   "source": [
    "np.round(100*color_hist.groupby(['percentile']).std()[['mc_attack_log_50','set_accuracy_mc_log','successful_sum_attack_1','successful_sum_attack_2']]/np.sqrt(color_hist.groupby(['percentile']).count()[['mc_attack_log_50','set_accuracy_mc_log','successful_sum_attack_1','successful_sum_attack_2']]),2)"
   ]
  }
 ],
 "metadata": {
  "kernelspec": {
   "display_name": "Python 3",
   "language": "python",
   "name": "python3"
  },
  "language_info": {
   "codemirror_mode": {
    "name": "ipython",
    "version": 3
   },
   "file_extension": ".py",
   "mimetype": "text/x-python",
   "name": "python",
   "nbconvert_exporter": "python",
   "pygments_lexer": "ipython3",
   "version": "3.5.4"
  }
 },
 "nbformat": 4,
 "nbformat_minor": 2
}
