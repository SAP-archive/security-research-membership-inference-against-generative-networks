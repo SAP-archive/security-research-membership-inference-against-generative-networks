{
 "cells": [
  {
   "cell_type": "code",
   "execution_count": 100,
   "metadata": {},
   "outputs": [],
   "source": [
    "import numpy as np\n",
    "import pandas as pd\n",
    "import matplotlib.pyplot as plt\n",
    "\n",
    "dt = np.dtype([('instance_no', int),\n",
    "               ('exp_no', int),\n",
    "               ('method', int), # 1 = white box, 2 = euclidean_PCA, 3 = hog, 4 = euclidean_PCA category, 5 = hog category, 6 = ais\n",
    "               ('pca_n', int),\n",
    "               ('percentage_of_data', float),\n",
    "               ('percentile', float),\n",
    "               ('mc_euclidean_no_batches', int), # stuff\n",
    "               ('mc_hog_no_batches', int), # stuff\n",
    "               ('sigma_ais', float),\n",
    "               ('mc_attack_log', float),\n",
    "               ('mc_attack_eps', float),\n",
    "               ('mc_attack_frac', float), \n",
    "               ('mc_attack_log_50', float), \n",
    "               ('mc_attack_eps_50', float),\n",
    "               ('mc_attack_frac_50', float),\n",
    "               ('white_box_50', float),\n",
    "               ('white_box_11', float),\n",
    "               ('ais_50', float),\n",
    "               ('ais_acc_rate_50', float),\n",
    "              ])"
   ]
  },
  {
   "cell_type": "code",
   "execution_count": 101,
   "metadata": {},
   "outputs": [],
   "source": [
    "data = pd.DataFrame(np.loadtxt('CONSOLIDATED_MC_ATTACKS_MNIST.csv', dtype=dt))\n",
    "\n",
    "# ais sign correction\n",
    "data.loc[data.method == 6,('ais_50')] = 1-data[data.method == 6].ais_50\n",
    "#data.loc[data.method == 1,('white_box_50')] = 1-data[data.method == 1].white_box_50\n",
    "\n",
    "data = data.assign(mem_inf_adv_mc_log = lambda x: (x.mc_attack_log_50-0.5)*2)\n",
    "data = data.assign(mem_inf_adv_mc_ones = lambda x: (x.mc_attack_eps_50-0.5)*2)\n",
    "data = data.assign(mem_inf_adv_wb = lambda x: (x.white_box_50-0.5)*2)\n",
    "data = data.assign(mem_inf_adv_ais = lambda x: (x.ais_50-0.5)*2)\n",
    "\n",
    "def convert_to_set_prob(x):\n",
    "    prob = np.zeros((len(x),))\n",
    "    for i in range(len(x)):\n",
    "        if x[i] > 0:\n",
    "            prob[i] = 1\n",
    "        elif x[i] == 0:\n",
    "            prob[i] = 0.5\n",
    "        elif x[i] < 0:\n",
    "            prob[i] = 0\n",
    "    return prob\n",
    "\n",
    "data = data.assign(set_accuracy_mc_log = lambda x: convert_to_set_prob(x.mem_inf_adv_mc_log))\n",
    "data = data.assign(set_accuracy_mc_ones = lambda x: convert_to_set_prob(x.mem_inf_adv_mc_ones))\n",
    "data = data.assign(set_accuracy_wb = lambda x: convert_to_set_prob(x.mem_inf_adv_wb))\n",
    "data = data.assign(set_accuracy_ais = lambda x: convert_to_set_prob(x.mem_inf_adv_ais))\n",
    "\n",
    "data = data.assign(set_mem_inf_adv_mc_log = lambda x: 2*x.set_accuracy_mc_log-1)\n",
    "data = data.assign(set_mem_inf_adv_mc_ones = lambda x: 2*x.set_accuracy_mc_ones-1)\n",
    "data = data.assign(set_mem_inf_adv_wb = lambda x: 2*x.set_accuracy_wb-1)\n",
    "data = data.assign(set_mem_inf_adv_ais = lambda x: 2*x.set_accuracy_ais-1)\n",
    "\n",
    "white_box = data[data.method == 1]\n",
    "pca_cat = data[data.method == 4]\n",
    "hog_cat = data[data.method == 5]\n",
    "\n"
   ]
  },
  {
   "cell_type": "code",
   "execution_count": 102,
   "metadata": {},
   "outputs": [],
   "source": [
    "data = pd.DataFrame(np.loadtxt('AIS_SIGMA_0.025.csv', dtype=dt))\n",
    "\n",
    "# ais sign correction\n",
    "data.loc[data.method == 6,('ais_50')] = 1-data[data.method == 6].ais_50\n",
    "#data.loc[data.method == 1,('white_box_50')] = 1-data[data.method == 1].white_box_50\n",
    "\n",
    "data = data.assign(mem_inf_adv_mc_log = lambda x: (x.mc_attack_log_50-0.5)*2)\n",
    "data = data.assign(mem_inf_adv_mc_ones = lambda x: (x.mc_attack_eps_50-0.5)*2)\n",
    "data = data.assign(mem_inf_adv_wb = lambda x: (x.white_box_50-0.5)*2)\n",
    "data = data.assign(mem_inf_adv_ais = lambda x: (x.ais_50-0.5)*2)\n",
    "\n",
    "def convert_to_set_prob(x):\n",
    "    prob = np.zeros((len(x),))\n",
    "    for i in range(len(x)):\n",
    "        if x[i] > 0:\n",
    "            prob[i] = 1\n",
    "        elif x[i] == 0:\n",
    "            prob[i] = 0.5\n",
    "        elif x[i] < 0:\n",
    "            prob[i] = 0\n",
    "    return prob\n",
    "\n",
    "data = data.assign(set_accuracy_mc_log = lambda x: convert_to_set_prob(x.mem_inf_adv_mc_log))\n",
    "data = data.assign(set_accuracy_mc_ones = lambda x: convert_to_set_prob(x.mem_inf_adv_mc_ones))\n",
    "data = data.assign(set_accuracy_wb = lambda x: convert_to_set_prob(x.mem_inf_adv_wb))\n",
    "data = data.assign(set_accuracy_ais = lambda x: convert_to_set_prob(x.mem_inf_adv_ais))\n",
    "\n",
    "data = data.assign(set_mem_inf_adv_mc_log = lambda x: 2*x.set_accuracy_mc_log-1)\n",
    "data = data.assign(set_mem_inf_adv_mc_ones = lambda x: 2*x.set_accuracy_mc_ones-1)\n",
    "data = data.assign(set_mem_inf_adv_wb = lambda x: 2*x.set_accuracy_wb-1)\n",
    "data = data.assign(set_mem_inf_adv_ais = lambda x: 2*x.set_accuracy_ais-1)\n",
    "\n",
    "ais = data[data.method == 6]\n",
    "\n"
   ]
  },
  {
   "cell_type": "markdown",
   "metadata": {},
   "source": [
    "# White Box"
   ]
  },
  {
   "cell_type": "code",
   "execution_count": 103,
   "metadata": {},
   "outputs": [
    {
     "data": {
      "text/plain": [
       "155"
      ]
     },
     "execution_count": 103,
     "metadata": {},
     "output_type": "execute_result"
    }
   ],
   "source": [
    "len(white_box)"
   ]
  },
  {
   "cell_type": "code",
   "execution_count": 104,
   "metadata": {},
   "outputs": [
    {
     "name": "stdout",
     "output_type": "stream",
     "text": [
      "-0.002193548387096765\n",
      "0.025806451612903226\n",
      "0.5129032258064516\n"
     ]
    }
   ],
   "source": [
    "print(white_box.mem_inf_adv_wb.mean())\n",
    "print(white_box.set_mem_inf_adv_wb.mean())\n",
    "print(white_box.set_accuracy_wb.mean())"
   ]
  },
  {
   "cell_type": "markdown",
   "metadata": {},
   "source": [
    "# AIS"
   ]
  },
  {
   "cell_type": "code",
   "execution_count": 105,
   "metadata": {},
   "outputs": [
    {
     "name": "stdout",
     "output_type": "stream",
     "text": [
      "0.0032432432432432583\n",
      "0.5540540540540541\n"
     ]
    }
   ],
   "source": [
    "print(ais.mem_inf_adv_ais.mean())\n",
    "print(ais.set_accuracy_ais.mean())"
   ]
  },
  {
   "cell_type": "markdown",
   "metadata": {},
   "source": [
    "# PCA per Category\n",
    "0.1 mc_attack_log_50"
   ]
  },
  {
   "cell_type": "code",
   "execution_count": 106,
   "metadata": {},
   "outputs": [
    {
     "data": {
      "text/html": [
       "<div>\n",
       "<style scoped>\n",
       "    .dataframe tbody tr th:only-of-type {\n",
       "        vertical-align: middle;\n",
       "    }\n",
       "\n",
       "    .dataframe tbody tr th {\n",
       "        vertical-align: top;\n",
       "    }\n",
       "\n",
       "    .dataframe thead th {\n",
       "        text-align: right;\n",
       "    }\n",
       "</style>\n",
       "<table border=\"1\" class=\"dataframe\">\n",
       "  <thead>\n",
       "    <tr style=\"text-align: right;\">\n",
       "      <th></th>\n",
       "      <th>mc_attack_log_50</th>\n",
       "      <th>mc_attack_eps_50</th>\n",
       "    </tr>\n",
       "    <tr>\n",
       "      <th>percentile</th>\n",
       "      <th></th>\n",
       "      <th></th>\n",
       "    </tr>\n",
       "  </thead>\n",
       "  <tbody>\n",
       "    <tr>\n",
       "      <th>-1.00</th>\n",
       "      <td>52.716129</td>\n",
       "      <td>52.716129</td>\n",
       "    </tr>\n",
       "    <tr>\n",
       "      <th>0.01</th>\n",
       "      <td>49.993548</td>\n",
       "      <td>50.064516</td>\n",
       "    </tr>\n",
       "    <tr>\n",
       "      <th>0.10</th>\n",
       "      <td>51.316129</td>\n",
       "      <td>50.961290</td>\n",
       "    </tr>\n",
       "    <tr>\n",
       "      <th>1.00</th>\n",
       "      <td>52.458065</td>\n",
       "      <td>52.354839</td>\n",
       "    </tr>\n",
       "  </tbody>\n",
       "</table>\n",
       "</div>"
      ],
      "text/plain": [
       "            mc_attack_log_50  mc_attack_eps_50\n",
       "percentile                                    \n",
       "-1.00              52.716129         52.716129\n",
       " 0.01              49.993548         50.064516\n",
       " 0.10              51.316129         50.961290\n",
       " 1.00              52.458065         52.354839"
      ]
     },
     "execution_count": 106,
     "metadata": {},
     "output_type": "execute_result"
    }
   ],
   "source": [
    "pca_cat.groupby(['percentile']).mean()[['mc_attack_log_50','mc_attack_eps_50']]*100"
   ]
  },
  {
   "cell_type": "code",
   "execution_count": 107,
   "metadata": {
    "scrolled": true
   },
   "outputs": [
    {
     "data": {
      "text/html": [
       "<div>\n",
       "<style scoped>\n",
       "    .dataframe tbody tr th:only-of-type {\n",
       "        vertical-align: middle;\n",
       "    }\n",
       "\n",
       "    .dataframe tbody tr th {\n",
       "        vertical-align: top;\n",
       "    }\n",
       "\n",
       "    .dataframe thead th {\n",
       "        text-align: right;\n",
       "    }\n",
       "</style>\n",
       "<table border=\"1\" class=\"dataframe\">\n",
       "  <thead>\n",
       "    <tr style=\"text-align: right;\">\n",
       "      <th></th>\n",
       "      <th>set_accuracy_mc_log</th>\n",
       "      <th>set_accuracy_mc_ones</th>\n",
       "    </tr>\n",
       "    <tr>\n",
       "      <th>percentile</th>\n",
       "      <th></th>\n",
       "      <th></th>\n",
       "    </tr>\n",
       "  </thead>\n",
       "  <tbody>\n",
       "    <tr>\n",
       "      <th>-1.00</th>\n",
       "      <td>74.838710</td>\n",
       "      <td>74.838710</td>\n",
       "    </tr>\n",
       "    <tr>\n",
       "      <th>0.01</th>\n",
       "      <td>47.419355</td>\n",
       "      <td>51.612903</td>\n",
       "    </tr>\n",
       "    <tr>\n",
       "      <th>0.10</th>\n",
       "      <td>64.838710</td>\n",
       "      <td>59.677419</td>\n",
       "    </tr>\n",
       "    <tr>\n",
       "      <th>1.00</th>\n",
       "      <td>74.838710</td>\n",
       "      <td>71.935484</td>\n",
       "    </tr>\n",
       "  </tbody>\n",
       "</table>\n",
       "</div>"
      ],
      "text/plain": [
       "            set_accuracy_mc_log  set_accuracy_mc_ones\n",
       "percentile                                           \n",
       "-1.00                 74.838710             74.838710\n",
       " 0.01                 47.419355             51.612903\n",
       " 0.10                 64.838710             59.677419\n",
       " 1.00                 74.838710             71.935484"
      ]
     },
     "execution_count": 107,
     "metadata": {},
     "output_type": "execute_result"
    }
   ],
   "source": [
    "means_pca_gan = pca_cat.groupby(['percentile']).mean()[['set_accuracy_mc_log','set_accuracy_mc_ones']]*100\n",
    "means_pca_gan"
   ]
  },
  {
   "cell_type": "code",
   "execution_count": 108,
   "metadata": {},
   "outputs": [
    {
     "data": {
      "text/html": [
       "<div>\n",
       "<style scoped>\n",
       "    .dataframe tbody tr th:only-of-type {\n",
       "        vertical-align: middle;\n",
       "    }\n",
       "\n",
       "    .dataframe tbody tr th {\n",
       "        vertical-align: top;\n",
       "    }\n",
       "\n",
       "    .dataframe thead th {\n",
       "        text-align: right;\n",
       "    }\n",
       "</style>\n",
       "<table border=\"1\" class=\"dataframe\">\n",
       "  <thead>\n",
       "    <tr style=\"text-align: right;\">\n",
       "      <th></th>\n",
       "      <th>set_accuracy_mc_log</th>\n",
       "      <th>set_accuracy_mc_ones</th>\n",
       "    </tr>\n",
       "    <tr>\n",
       "      <th>percentile</th>\n",
       "      <th></th>\n",
       "      <th></th>\n",
       "    </tr>\n",
       "  </thead>\n",
       "  <tbody>\n",
       "    <tr>\n",
       "      <th>-1.00</th>\n",
       "      <td>3.248350</td>\n",
       "      <td>3.248350</td>\n",
       "    </tr>\n",
       "    <tr>\n",
       "      <th>0.01</th>\n",
       "      <td>3.768365</td>\n",
       "      <td>3.757951</td>\n",
       "    </tr>\n",
       "    <tr>\n",
       "      <th>0.10</th>\n",
       "      <td>3.694848</td>\n",
       "      <td>3.776783</td>\n",
       "    </tr>\n",
       "    <tr>\n",
       "      <th>1.00</th>\n",
       "      <td>3.312207</td>\n",
       "      <td>3.396808</td>\n",
       "    </tr>\n",
       "  </tbody>\n",
       "</table>\n",
       "</div>"
      ],
      "text/plain": [
       "            set_accuracy_mc_log  set_accuracy_mc_ones\n",
       "percentile                                           \n",
       "-1.00                  3.248350              3.248350\n",
       " 0.01                  3.768365              3.757951\n",
       " 0.10                  3.694848              3.776783\n",
       " 1.00                  3.312207              3.396808"
      ]
     },
     "execution_count": 108,
     "metadata": {},
     "output_type": "execute_result"
    }
   ],
   "source": [
    "std_pca_gan = pca_cat.groupby(['percentile']).std()[['set_accuracy_mc_log','set_accuracy_mc_ones']]/np.sqrt(pca_cat.groupby(['percentile']).count()[['set_accuracy_mc_log','set_accuracy_mc_ones']])*100\n",
    "std_pca_gan"
   ]
  },
  {
   "cell_type": "code",
   "execution_count": 109,
   "metadata": {},
   "outputs": [
    {
     "data": {
      "text/plain": [
       "percentile\n",
       "-1.00    74.84$\\pm$3.25 & 74.84$\\pm$3.25 & \n",
       " 0.01    47.42$\\pm$3.77 & 51.61$\\pm$3.76 & \n",
       " 0.10    64.84$\\pm$3.69 & 59.68$\\pm$3.78 & \n",
       " 1.00    74.84$\\pm$3.31 & 71.94$\\pm$3.40 & \n",
       "dtype: object"
      ]
     },
     "execution_count": 109,
     "metadata": {},
     "output_type": "execute_result"
    }
   ],
   "source": [
    "means_pca_gan['set_accuracy_mc_log'].map(lambda x: \"{:.2f}\".format(x))+'$\\pm$'+std_pca_gan['set_accuracy_mc_log'].map(lambda x: \"{:.2f}\".format(x)) + ' & '+means_pca_gan['set_accuracy_mc_ones'].map(lambda x: \"{:.2f}\".format(x))+'$\\pm$'+std_pca_gan['set_accuracy_mc_ones'].map(lambda x: \"{:.2f}\".format(x))+' & '"
   ]
  },
  {
   "cell_type": "code",
   "execution_count": 110,
   "metadata": {},
   "outputs": [
    {
     "data": {
      "text/html": [
       "<div>\n",
       "<style scoped>\n",
       "    .dataframe tbody tr th:only-of-type {\n",
       "        vertical-align: middle;\n",
       "    }\n",
       "\n",
       "    .dataframe tbody tr th {\n",
       "        vertical-align: top;\n",
       "    }\n",
       "\n",
       "    .dataframe thead th {\n",
       "        text-align: right;\n",
       "    }\n",
       "</style>\n",
       "<table border=\"1\" class=\"dataframe\">\n",
       "  <thead>\n",
       "    <tr style=\"text-align: right;\">\n",
       "      <th></th>\n",
       "      <th>set_accuracy_mc_log</th>\n",
       "      <th>set_accuracy_mc_ones</th>\n",
       "    </tr>\n",
       "    <tr>\n",
       "      <th>percentile</th>\n",
       "      <th></th>\n",
       "      <th></th>\n",
       "    </tr>\n",
       "  </thead>\n",
       "  <tbody>\n",
       "    <tr>\n",
       "      <th>-1.00</th>\n",
       "      <td>155</td>\n",
       "      <td>155</td>\n",
       "    </tr>\n",
       "    <tr>\n",
       "      <th>0.01</th>\n",
       "      <td>155</td>\n",
       "      <td>155</td>\n",
       "    </tr>\n",
       "    <tr>\n",
       "      <th>0.10</th>\n",
       "      <td>155</td>\n",
       "      <td>155</td>\n",
       "    </tr>\n",
       "    <tr>\n",
       "      <th>1.00</th>\n",
       "      <td>155</td>\n",
       "      <td>155</td>\n",
       "    </tr>\n",
       "  </tbody>\n",
       "</table>\n",
       "</div>"
      ],
      "text/plain": [
       "            set_accuracy_mc_log  set_accuracy_mc_ones\n",
       "percentile                                           \n",
       "-1.00                       155                   155\n",
       " 0.01                       155                   155\n",
       " 0.10                       155                   155\n",
       " 1.00                       155                   155"
      ]
     },
     "execution_count": 110,
     "metadata": {},
     "output_type": "execute_result"
    }
   ],
   "source": [
    "pca_cat.groupby(['percentile']).count()[['set_accuracy_mc_log','set_accuracy_mc_ones']]"
   ]
  },
  {
   "cell_type": "code",
   "execution_count": 111,
   "metadata": {},
   "outputs": [
    {
     "name": "stdout",
     "output_type": "stream",
     "text": [
      "155\n",
      "0.054322580645161316\n",
      "0.054322580645161316\n",
      "0.7483870967741936\n",
      "0.7483870967741936\n"
     ]
    }
   ],
   "source": [
    "pca_cat_opt_perc = pca_cat[pca_cat.percentile == -1]\n",
    "print(len(pca_cat_opt_perc))\n",
    "\n",
    "print(pca_cat_opt_perc.mem_inf_adv_mc_log.mean())\n",
    "print(pca_cat_opt_perc.mem_inf_adv_mc_ones.mean())\n",
    "\n",
    "print(pca_cat_opt_perc.set_accuracy_mc_ones.mean())\n",
    "print(pca_cat_opt_perc.set_accuracy_mc_log.mean())\n",
    "\n",
    "#print(len(pca_opt_perc[pca_opt_perc.mc_attack_log_50>0.5])/len(pca_opt_perc))\n",
    "#print(len(pca_opt_perc[pca_opt_perc.mc_attack_eps_50>0.5])/len(pca_opt_perc))"
   ]
  },
  {
   "cell_type": "markdown",
   "metadata": {},
   "source": [
    "# Histogram of Gradients (HOG) per category\n",
    "0.01 Epsilon Method?"
   ]
  },
  {
   "cell_type": "code",
   "execution_count": 112,
   "metadata": {},
   "outputs": [
    {
     "data": {
      "text/html": [
       "<div>\n",
       "<style scoped>\n",
       "    .dataframe tbody tr th:only-of-type {\n",
       "        vertical-align: middle;\n",
       "    }\n",
       "\n",
       "    .dataframe tbody tr th {\n",
       "        vertical-align: top;\n",
       "    }\n",
       "\n",
       "    .dataframe thead th {\n",
       "        text-align: right;\n",
       "    }\n",
       "</style>\n",
       "<table border=\"1\" class=\"dataframe\">\n",
       "  <thead>\n",
       "    <tr style=\"text-align: right;\">\n",
       "      <th></th>\n",
       "      <th>mc_attack_log_50</th>\n",
       "      <th>mc_attack_eps_50</th>\n",
       "    </tr>\n",
       "    <tr>\n",
       "      <th>percentile</th>\n",
       "      <th></th>\n",
       "      <th></th>\n",
       "    </tr>\n",
       "  </thead>\n",
       "  <tbody>\n",
       "    <tr>\n",
       "      <th>-1.00</th>\n",
       "      <td>51.510067</td>\n",
       "      <td>51.510067</td>\n",
       "    </tr>\n",
       "    <tr>\n",
       "      <th>0.01</th>\n",
       "      <td>51.295302</td>\n",
       "      <td>51.255034</td>\n",
       "    </tr>\n",
       "    <tr>\n",
       "      <th>0.10</th>\n",
       "      <td>51.255034</td>\n",
       "      <td>51.201342</td>\n",
       "    </tr>\n",
       "    <tr>\n",
       "      <th>1.00</th>\n",
       "      <td>50.926174</td>\n",
       "      <td>50.892617</td>\n",
       "    </tr>\n",
       "  </tbody>\n",
       "</table>\n",
       "</div>"
      ],
      "text/plain": [
       "            mc_attack_log_50  mc_attack_eps_50\n",
       "percentile                                    \n",
       "-1.00              51.510067         51.510067\n",
       " 0.01              51.295302         51.255034\n",
       " 0.10              51.255034         51.201342\n",
       " 1.00              50.926174         50.892617"
      ]
     },
     "execution_count": 112,
     "metadata": {},
     "output_type": "execute_result"
    }
   ],
   "source": [
    "hog_cat.groupby(['percentile']).mean()[['mc_attack_log_50','mc_attack_eps_50']]*100"
   ]
  },
  {
   "cell_type": "code",
   "execution_count": 113,
   "metadata": {},
   "outputs": [
    {
     "data": {
      "text/html": [
       "<div>\n",
       "<style scoped>\n",
       "    .dataframe tbody tr th:only-of-type {\n",
       "        vertical-align: middle;\n",
       "    }\n",
       "\n",
       "    .dataframe tbody tr th {\n",
       "        vertical-align: top;\n",
       "    }\n",
       "\n",
       "    .dataframe thead th {\n",
       "        text-align: right;\n",
       "    }\n",
       "</style>\n",
       "<table border=\"1\" class=\"dataframe\">\n",
       "  <thead>\n",
       "    <tr style=\"text-align: right;\">\n",
       "      <th></th>\n",
       "      <th>set_accuracy_mc_log</th>\n",
       "      <th>set_accuracy_mc_ones</th>\n",
       "    </tr>\n",
       "    <tr>\n",
       "      <th>percentile</th>\n",
       "      <th></th>\n",
       "      <th></th>\n",
       "    </tr>\n",
       "  </thead>\n",
       "  <tbody>\n",
       "    <tr>\n",
       "      <th>-1.00</th>\n",
       "      <td>63.758389</td>\n",
       "      <td>63.758389</td>\n",
       "    </tr>\n",
       "    <tr>\n",
       "      <th>0.01</th>\n",
       "      <td>63.758389</td>\n",
       "      <td>66.107383</td>\n",
       "    </tr>\n",
       "    <tr>\n",
       "      <th>0.10</th>\n",
       "      <td>63.758389</td>\n",
       "      <td>62.080537</td>\n",
       "    </tr>\n",
       "    <tr>\n",
       "      <th>1.00</th>\n",
       "      <td>60.067114</td>\n",
       "      <td>59.731544</td>\n",
       "    </tr>\n",
       "  </tbody>\n",
       "</table>\n",
       "</div>"
      ],
      "text/plain": [
       "            set_accuracy_mc_log  set_accuracy_mc_ones\n",
       "percentile                                           \n",
       "-1.00                 63.758389             63.758389\n",
       " 0.01                 63.758389             66.107383\n",
       " 0.10                 63.758389             62.080537\n",
       " 1.00                 60.067114             59.731544"
      ]
     },
     "execution_count": 113,
     "metadata": {},
     "output_type": "execute_result"
    }
   ],
   "source": [
    "means_hog_gan = hog_cat.groupby(['percentile']).mean()[['set_accuracy_mc_log','set_accuracy_mc_ones']]*100\n",
    "means_hog_gan"
   ]
  },
  {
   "cell_type": "code",
   "execution_count": 114,
   "metadata": {},
   "outputs": [
    {
     "data": {
      "text/html": [
       "<div>\n",
       "<style scoped>\n",
       "    .dataframe tbody tr th:only-of-type {\n",
       "        vertical-align: middle;\n",
       "    }\n",
       "\n",
       "    .dataframe tbody tr th {\n",
       "        vertical-align: top;\n",
       "    }\n",
       "\n",
       "    .dataframe thead th {\n",
       "        text-align: right;\n",
       "    }\n",
       "</style>\n",
       "<table border=\"1\" class=\"dataframe\">\n",
       "  <thead>\n",
       "    <tr style=\"text-align: right;\">\n",
       "      <th></th>\n",
       "      <th>set_accuracy_mc_log</th>\n",
       "      <th>set_accuracy_mc_ones</th>\n",
       "    </tr>\n",
       "    <tr>\n",
       "      <th>percentile</th>\n",
       "      <th></th>\n",
       "      <th></th>\n",
       "    </tr>\n",
       "  </thead>\n",
       "  <tbody>\n",
       "    <tr>\n",
       "      <th>-1.00</th>\n",
       "      <td>3.834832</td>\n",
       "      <td>3.834832</td>\n",
       "    </tr>\n",
       "    <tr>\n",
       "      <th>0.01</th>\n",
       "      <td>3.684054</td>\n",
       "      <td>3.696631</td>\n",
       "    </tr>\n",
       "    <tr>\n",
       "      <th>0.10</th>\n",
       "      <td>3.714699</td>\n",
       "      <td>3.646689</td>\n",
       "    </tr>\n",
       "    <tr>\n",
       "      <th>1.00</th>\n",
       "      <td>3.838402</td>\n",
       "      <td>3.858962</td>\n",
       "    </tr>\n",
       "  </tbody>\n",
       "</table>\n",
       "</div>"
      ],
      "text/plain": [
       "            set_accuracy_mc_log  set_accuracy_mc_ones\n",
       "percentile                                           \n",
       "-1.00                  3.834832              3.834832\n",
       " 0.01                  3.684054              3.696631\n",
       " 0.10                  3.714699              3.646689\n",
       " 1.00                  3.838402              3.858962"
      ]
     },
     "execution_count": 114,
     "metadata": {},
     "output_type": "execute_result"
    }
   ],
   "source": [
    "std_hog_gan = hog_cat.groupby(['percentile']).std()[['set_accuracy_mc_log','set_accuracy_mc_ones']]/np.sqrt(hog_cat.groupby(['percentile']).count()[['set_accuracy_mc_log','set_accuracy_mc_ones']])*100\n",
    "std_hog_gan"
   ]
  },
  {
   "cell_type": "code",
   "execution_count": 115,
   "metadata": {},
   "outputs": [
    {
     "data": {
      "text/plain": [
       "percentile\n",
       "-1.00    63.76$\\pm$3.83 & 63.76$\\pm$3.83 & \n",
       " 0.01    63.76$\\pm$3.68 & 66.11$\\pm$3.70 & \n",
       " 0.10    63.76$\\pm$3.71 & 62.08$\\pm$3.65 & \n",
       " 1.00    60.07$\\pm$3.84 & 59.73$\\pm$3.86 & \n",
       "dtype: object"
      ]
     },
     "execution_count": 115,
     "metadata": {},
     "output_type": "execute_result"
    }
   ],
   "source": [
    "means_hog_gan['set_accuracy_mc_log'].map(lambda x: \"{:.2f}\".format(x))+'$\\pm$'+std_hog_gan['set_accuracy_mc_log'].map(lambda x: \"{:.2f}\".format(x)) + ' & '+means_hog_gan['set_accuracy_mc_ones'].map(lambda x: \"{:.2f}\".format(x))+'$\\pm$'+std_hog_gan['set_accuracy_mc_ones'].map(lambda x: \"{:.2f}\".format(x))+' & '"
   ]
  },
  {
   "cell_type": "code",
   "execution_count": 116,
   "metadata": {},
   "outputs": [
    {
     "data": {
      "text/html": [
       "<div>\n",
       "<style scoped>\n",
       "    .dataframe tbody tr th:only-of-type {\n",
       "        vertical-align: middle;\n",
       "    }\n",
       "\n",
       "    .dataframe tbody tr th {\n",
       "        vertical-align: top;\n",
       "    }\n",
       "\n",
       "    .dataframe thead th {\n",
       "        text-align: right;\n",
       "    }\n",
       "</style>\n",
       "<table border=\"1\" class=\"dataframe\">\n",
       "  <thead>\n",
       "    <tr style=\"text-align: right;\">\n",
       "      <th></th>\n",
       "      <th>set_accuracy_mc_log</th>\n",
       "      <th>set_accuracy_mc_ones</th>\n",
       "    </tr>\n",
       "    <tr>\n",
       "      <th>percentile</th>\n",
       "      <th></th>\n",
       "      <th></th>\n",
       "    </tr>\n",
       "  </thead>\n",
       "  <tbody>\n",
       "    <tr>\n",
       "      <th>-1.00</th>\n",
       "      <td>63.758389</td>\n",
       "      <td>63.758389</td>\n",
       "    </tr>\n",
       "    <tr>\n",
       "      <th>0.01</th>\n",
       "      <td>63.758389</td>\n",
       "      <td>66.107383</td>\n",
       "    </tr>\n",
       "    <tr>\n",
       "      <th>0.10</th>\n",
       "      <td>63.758389</td>\n",
       "      <td>62.080537</td>\n",
       "    </tr>\n",
       "    <tr>\n",
       "      <th>1.00</th>\n",
       "      <td>60.067114</td>\n",
       "      <td>59.731544</td>\n",
       "    </tr>\n",
       "  </tbody>\n",
       "</table>\n",
       "</div>"
      ],
      "text/plain": [
       "            set_accuracy_mc_log  set_accuracy_mc_ones\n",
       "percentile                                           \n",
       "-1.00                 63.758389             63.758389\n",
       " 0.01                 63.758389             66.107383\n",
       " 0.10                 63.758389             62.080537\n",
       " 1.00                 60.067114             59.731544"
      ]
     },
     "execution_count": 116,
     "metadata": {},
     "output_type": "execute_result"
    }
   ],
   "source": [
    "means_hog_gan"
   ]
  },
  {
   "cell_type": "code",
   "execution_count": 117,
   "metadata": {},
   "outputs": [
    {
     "data": {
      "text/html": [
       "<div>\n",
       "<style scoped>\n",
       "    .dataframe tbody tr th:only-of-type {\n",
       "        vertical-align: middle;\n",
       "    }\n",
       "\n",
       "    .dataframe tbody tr th {\n",
       "        vertical-align: top;\n",
       "    }\n",
       "\n",
       "    .dataframe thead th {\n",
       "        text-align: right;\n",
       "    }\n",
       "</style>\n",
       "<table border=\"1\" class=\"dataframe\">\n",
       "  <thead>\n",
       "    <tr style=\"text-align: right;\">\n",
       "      <th></th>\n",
       "      <th>set_accuracy_mc_log</th>\n",
       "      <th>set_accuracy_mc_ones</th>\n",
       "    </tr>\n",
       "    <tr>\n",
       "      <th>percentile</th>\n",
       "      <th></th>\n",
       "      <th></th>\n",
       "    </tr>\n",
       "  </thead>\n",
       "  <tbody>\n",
       "    <tr>\n",
       "      <th>-1.00</th>\n",
       "      <td>149</td>\n",
       "      <td>149</td>\n",
       "    </tr>\n",
       "    <tr>\n",
       "      <th>0.01</th>\n",
       "      <td>149</td>\n",
       "      <td>149</td>\n",
       "    </tr>\n",
       "    <tr>\n",
       "      <th>0.10</th>\n",
       "      <td>149</td>\n",
       "      <td>149</td>\n",
       "    </tr>\n",
       "    <tr>\n",
       "      <th>1.00</th>\n",
       "      <td>149</td>\n",
       "      <td>149</td>\n",
       "    </tr>\n",
       "  </tbody>\n",
       "</table>\n",
       "</div>"
      ],
      "text/plain": [
       "            set_accuracy_mc_log  set_accuracy_mc_ones\n",
       "percentile                                           \n",
       "-1.00                       149                   149\n",
       " 0.01                       149                   149\n",
       " 0.10                       149                   149\n",
       " 1.00                       149                   149"
      ]
     },
     "execution_count": 117,
     "metadata": {},
     "output_type": "execute_result"
    }
   ],
   "source": [
    "hog_cat.groupby(['percentile']).count()[['set_accuracy_mc_log','set_accuracy_mc_ones']]"
   ]
  },
  {
   "cell_type": "code",
   "execution_count": 118,
   "metadata": {},
   "outputs": [
    {
     "name": "stdout",
     "output_type": "stream",
     "text": [
      "0.030201342281879217\n",
      "0.030201342281879217\n",
      "0.2751677852348993\n",
      "0.6375838926174496\n"
     ]
    }
   ],
   "source": [
    "hog_cat_opt_perc = hog_cat[hog_cat.percentile == -1]\n",
    "\n",
    "print(hog_cat_opt_perc.mem_inf_adv_mc_log.mean())\n",
    "print(hog_cat_opt_perc.mem_inf_adv_mc_ones.mean())\n",
    "\n",
    "print(hog_cat_opt_perc.set_mem_inf_adv_mc_log.mean())\n",
    "print(hog_cat_opt_perc.set_accuracy_mc_ones.mean())"
   ]
  },
  {
   "cell_type": "code",
   "execution_count": 119,
   "metadata": {},
   "outputs": [],
   "source": [
    "def calc_error(data):\n",
    "    return data.std()/np.sqrt(len(data))"
   ]
  },
  {
   "cell_type": "code",
   "execution_count": 121,
   "metadata": {},
   "outputs": [
    {
     "data": {
      "image/png": "[encoded data removed]",
      "text/plain": [
       "<matplotlib.figure.Figure at 0x1fac8693a58>"
      ]
     },
     "metadata": {},
     "output_type": "display_data"
    },
    {
     "data": {
      "image/png": "[encoded data removed]",
      "text/plain": [
       "<matplotlib.figure.Figure at 0x1fac86f0828>"
      ]
     },
     "metadata": {},
     "output_type": "display_data"
    }
   ],
   "source": [
    "plt.rc('text', usetex=True)\n",
    "plt.rc('font', family='serif')\n",
    "plt.rcParams.update({'font.size': 20})\n",
    "\n",
    "f = plt.figure(figsize=(7, 7))\n",
    "ax = plt.subplot()\n",
    "\n",
    "names = ['White Box', 'AIS','MC PCA', 'MC HOG']\n",
    "N = len(names)\n",
    "ind = np.arange(N)\n",
    "\n",
    "y = [white_box.white_box_50.mean(), \n",
    "                               ais.ais_50.mean(), \n",
    "                               #pca_opt_perc.mc_attack_log_50.mean(),\n",
    "                               #pca_opt_perc.mc_attack_eps_50.mean(),\n",
    "                               #hog_opt_perc.mc_attack_log_50.mean(),\n",
    "                               #hog_opt_perc.mc_attack_eps_50.mean(),\n",
    "                               #pca_cat_opt_perc.mc_attack_log_50.mean(),\n",
    "                               pca_cat_opt_perc.mc_attack_eps_50.mean(),\n",
    "                               #hog_cat_opt_perc.mc_attack_log_50.mean(),\n",
    "                               hog_cat_opt_perc.mc_attack_eps_50.mean()]\n",
    "\n",
    "rects1 = ax.bar(ind,  y)\n",
    "\n",
    "e = [calc_error(white_box.white_box_50), \n",
    "                               calc_error(ais.ais_50), \n",
    "                               #calc_error(pca_opt_perc.mc_attack_log_50), \n",
    "                               #calc_error(pca_opt_perc.mc_attack_eps_50), \n",
    "                               #calc_error(hog_opt_perc.mc_attack_log_50), \n",
    "                               #calc_error(hog_opt_perc.mc_attack_eps_50),\n",
    "                               #calc_error(pca_cat_opt_perc.mc_attack_log_50), \n",
    "                               calc_error(pca_cat_opt_perc.mc_attack_eps_50), \n",
    "                               #calc_error(hog_cat_opt_perc.mc_attack_log_50), \n",
    "                               calc_error(hog_cat_opt_perc.mc_attack_eps_50)]\n",
    "\n",
    "np.save('y_single_cgan',y)\n",
    "np.save('e_single_cgan',e)\n",
    "\n",
    "plt.errorbar(ind, y, e, color='r', linestyle='None', capsize=7)\n",
    "\n",
    "\n",
    "plt.ylim(ymin=0.45)\n",
    "plt.axhline(y=0.5, color='r', linestyle='-')\n",
    "\n",
    "plt.ylabel('Accuracy (Single)', fontsize='large')\n",
    "\n",
    "ax.set_xticks(ind)\n",
    "plt.setp(ax.get_xticklabels(), rotation='70')\n",
    "\n",
    "ax.set_xticklabels(names)\n",
    "\n",
    "plt.tight_layout(pad=2, w_pad=2, h_pad=2)\n",
    "\n",
    "f = plt.figure(figsize=(7, 7))\n",
    "ax = plt.subplot()\n",
    "\n",
    "ind = np.arange(N)\n",
    "\n",
    "y = [white_box.set_accuracy_wb.mean(), \n",
    "                               ais.set_accuracy_ais.mean(), \n",
    "                               #pca_opt_perc.set_accuracy_mc_log.mean(),\n",
    "                               #pca_opt_perc.set_accuracy_mc_ones.mean(),\n",
    "                               #hog_opt_perc.set_accuracy_mc_log.mean(),\n",
    "                               #hog_opt_perc.set_accuracy_mc_ones.mean(),\n",
    "                               #pca_cat_opt_perc.set_accuracy_mc_log.mean(),\n",
    "                               pca_cat_opt_perc.set_accuracy_mc_ones.mean(),\n",
    "                               #hog_cat_opt_perc.set_accuracy_mc_log.mean(),\n",
    "                               hog_cat_opt_perc.set_accuracy_mc_ones.mean()]\n",
    "rects1 = ax.bar(ind, y)\n",
    "\n",
    "e = [calc_error(white_box.set_accuracy_wb), \n",
    "                               calc_error(ais.set_accuracy_ais), \n",
    "                               #calc_error(pca_opt_perc.set_accuracy_mc_log), \n",
    "                               #calc_error(pca_opt_perc.set_accuracy_mc_ones), \n",
    "                               #calc_error(hog_opt_perc.set_accuracy_mc_log), \n",
    "                               #calc_error(hog_opt_perc.set_accuracy_mc_ones),\n",
    "                               #calc_error(pca_cat_opt_perc.set_accuracy_mc_log), \n",
    "                               calc_error(pca_cat_opt_perc.set_accuracy_mc_ones), \n",
    "                               #calc_error(hog_cat_opt_perc.set_accuracy_mc_log), \n",
    "                               calc_error(hog_cat_opt_perc.set_accuracy_mc_ones)]\n",
    "\n",
    "np.save('y_set_cgan',y)\n",
    "np.save('e_set_cgan',e)\n",
    "\n",
    "plt.errorbar(ind, y, e, color='r', linestyle='None', capsize=7)\n",
    "\n",
    "plt.ylabel('Accuracy (Set)', fontsize='large')\n",
    "\n",
    "plt.ylim(ymin=0.4)\n",
    "plt.axhline(y=0.5, color='r', linestyle='-')\n",
    "\n",
    "ax.set_xticks(ind)\n",
    "plt.setp(ax.get_xticklabels(), rotation='70')\n",
    "ax.set_xticklabels(names)\n",
    "\n",
    "plt.tight_layout(pad=2, w_pad=2, h_pad=2)\n",
    "plt.savefig('GAN_MNIST_Mem_Inf_10_Perc.pgf', bbox_inches=\"tight\")\n",
    "    \n",
    "plt.show()"
   ]
  },
  {
   "cell_type": "code",
   "execution_count": 122,
   "metadata": {},
   "outputs": [
    {
     "name": "stdout",
     "output_type": "stream",
     "text": [
      "155\n",
      "149\n",
      "111\n",
      "155\n"
     ]
    }
   ],
   "source": [
    "print(len(pca_cat_opt_perc))\n",
    "print(len(hog_cat_opt_perc))\n",
    "print(len(ais))\n",
    "print(len(white_box))"
   ]
  },
  {
   "cell_type": "code",
   "execution_count": null,
   "metadata": {},
   "outputs": [],
   "source": []
  }
 ],
 "metadata": {
  "kernelspec": {
   "display_name": "Python 3",
   "language": "python",
   "name": "python3"
  },
  "language_info": {
   "codemirror_mode": {
    "name": "ipython",
    "version": 3
   },
   "file_extension": ".py",
   "mimetype": "text/x-python",
   "name": "python",
   "nbconvert_exporter": "python",
   "pygments_lexer": "ipython3",
   "version": "3.7.3"
  }
 },
 "nbformat": 4,
 "nbformat_minor": 2
}
