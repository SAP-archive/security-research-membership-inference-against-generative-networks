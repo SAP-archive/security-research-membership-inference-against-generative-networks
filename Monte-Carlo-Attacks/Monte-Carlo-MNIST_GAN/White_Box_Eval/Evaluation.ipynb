{
 "cells": [
  {
   "cell_type": "code",
   "execution_count": 21,
   "metadata": {},
   "outputs": [],
   "source": [
    "import numpy as np\n",
    "import pandas as pd\n",
    "import matplotlib.pyplot as plt\n",
    "\n",
    "dt = np.dtype([('instance_no', int),\n",
    "               ('exp_no', int),\n",
    "               ('method', int), # 1 = white box, 2 = euclidean_PCA, 3 = hog, 4 = euclidean_PCA category, 5 = hog category, 6 = ais\n",
    "               ('pca_n', int),\n",
    "               ('percentage_of_data', float),\n",
    "               ('percentile', float),\n",
    "               ('mc_euclidean_no_batches', int), # stuff\n",
    "               ('mc_hog_no_batches', int), # stuff\n",
    "               ('sigma_ais', float),\n",
    "               ('mc_attack_log', float),\n",
    "               ('mc_attack_eps', float),\n",
    "               ('mc_attack_frac', float), \n",
    "               ('mc_attack_log_50', float), \n",
    "               ('mc_attack_eps_50', float),\n",
    "               ('mc_attack_frac_50', float),\n",
    "               ('white_box_50', float),\n",
    "               ('white_box_11', float),\n",
    "               ('ais_50', float),\n",
    "               ('ais_acc_rate_50', float),\n",
    "              ])"
   ]
  },
  {
   "cell_type": "code",
   "execution_count": 22,
   "metadata": {},
   "outputs": [],
   "source": [
    "data = pd.DataFrame(np.loadtxt('WB_Attack.csv', dtype=dt))\n",
    "\n",
    "# ais sign correction\n",
    "data.loc[data.method == 6,('ais_50')] = 1-data[data.method == 6].ais_50\n",
    "\n",
    "data = data.assign(mem_inf_adv_mc_log = lambda x: (x.mc_attack_log_50-0.5)*2)\n",
    "data = data.assign(mem_inf_adv_mc_ones = lambda x: (x.mc_attack_eps_50-0.5)*2)\n",
    "data = data.assign(mem_inf_adv_wb = lambda x: (x.white_box_50-0.5)*2)\n",
    "data = data.assign(mem_inf_adv_ais = lambda x: (x.ais_50-0.5)*2)\n",
    "\n",
    "def convert_to_set_prob(x):\n",
    "    prob = np.zeros((len(x),))\n",
    "    for i in range(len(x)):\n",
    "        if x[i] > 0:\n",
    "            prob[i] = 1\n",
    "        elif x[i] == 0:\n",
    "            prob[i] = 0.5\n",
    "        elif x[i] < 0:\n",
    "            prob[i] = 0\n",
    "    return prob\n",
    "\n",
    "data = data.assign(set_accuracy_mc_log = lambda x: convert_to_set_prob(x.mem_inf_adv_mc_log))\n",
    "data = data.assign(set_accuracy_mc_ones = lambda x: convert_to_set_prob(x.mem_inf_adv_mc_ones))\n",
    "data = data.assign(set_accuracy_wb = lambda x: convert_to_set_prob(x.mem_inf_adv_wb))\n",
    "data = data.assign(set_accuracy_ais = lambda x: convert_to_set_prob(x.mem_inf_adv_ais))\n",
    "\n",
    "data = data.assign(set_mem_inf_adv_mc_log = lambda x: 2*x.set_accuracy_mc_log-1)\n",
    "data = data.assign(set_mem_inf_adv_mc_ones = lambda x: 2*x.set_accuracy_mc_ones-1)\n",
    "data = data.assign(set_mem_inf_adv_wb = lambda x: 2*x.set_accuracy_wb-1)\n",
    "data = data.assign(set_mem_inf_adv_ais = lambda x: 2*x.set_accuracy_ais-1)\n",
    "\n",
    "white_box = data[data.method == 1]\n",
    "pca = data[data.method == 2]\n",
    "hog = data[data.method == 3]\n",
    "pca_cat = data[data.method == 4]\n",
    "hog_cat = data[data.method == 5]\n",
    "ais = data[data.method == 6]\n",
    "\n"
   ]
  },
  {
   "cell_type": "markdown",
   "metadata": {},
   "source": [
    "# White Box"
   ]
  },
  {
   "cell_type": "code",
   "execution_count": 23,
   "metadata": {},
   "outputs": [
    {
     "data": {
      "text/plain": [
       "2000"
      ]
     },
     "execution_count": 23,
     "metadata": {},
     "output_type": "execute_result"
    }
   ],
   "source": [
    "len(white_box)"
   ]
  },
  {
   "cell_type": "code",
   "execution_count": 24,
   "metadata": {},
   "outputs": [
    {
     "name": "stdout",
     "output_type": "stream",
     "text": [
      "-0.010899999999999991\n",
      "0.4565\n"
     ]
    }
   ],
   "source": [
    "print(white_box.mem_inf_adv_wb.mean())\n",
    "print(white_box.set_accuracy_wb.mean())"
   ]
  },
  {
   "cell_type": "markdown",
   "metadata": {},
   "source": [
    "# AIS"
   ]
  },
  {
   "cell_type": "code",
   "execution_count": 5,
   "metadata": {},
   "outputs": [
    {
     "name": "stdout",
     "output_type": "stream",
     "text": [
      "0.0032432432432432583\n",
      "0.10810810810810811\n"
     ]
    }
   ],
   "source": [
    "print(ais.mem_inf_adv_ais.mean())\n",
    "print(ais.set_mem_inf_adv_ais.mean())"
   ]
  },
  {
   "cell_type": "markdown",
   "metadata": {},
   "source": [
    "# PCA\n",
    "0.1 mc_attack_log_50"
   ]
  },
  {
   "cell_type": "code",
   "execution_count": 6,
   "metadata": {},
   "outputs": [
    {
     "data": {
      "text/html": [
       "<div>\n",
       "<style scoped>\n",
       "    .dataframe tbody tr th:only-of-type {\n",
       "        vertical-align: middle;\n",
       "    }\n",
       "\n",
       "    .dataframe tbody tr th {\n",
       "        vertical-align: top;\n",
       "    }\n",
       "\n",
       "    .dataframe thead th {\n",
       "        text-align: right;\n",
       "    }\n",
       "</style>\n",
       "<table border=\"1\" class=\"dataframe\">\n",
       "  <thead>\n",
       "    <tr style=\"text-align: right;\">\n",
       "      <th></th>\n",
       "      <th>mc_attack_log_50</th>\n",
       "      <th>mc_attack_eps_50</th>\n",
       "    </tr>\n",
       "    <tr>\n",
       "      <th>percentile</th>\n",
       "      <th></th>\n",
       "      <th></th>\n",
       "    </tr>\n",
       "  </thead>\n",
       "  <tbody>\n",
       "    <tr>\n",
       "      <th>0.0001</th>\n",
       "      <td>0.50</td>\n",
       "      <td>0.49</td>\n",
       "    </tr>\n",
       "    <tr>\n",
       "      <th>0.0010</th>\n",
       "      <td>0.50</td>\n",
       "      <td>0.51</td>\n",
       "    </tr>\n",
       "    <tr>\n",
       "      <th>0.0100</th>\n",
       "      <td>0.51</td>\n",
       "      <td>0.50</td>\n",
       "    </tr>\n",
       "    <tr>\n",
       "      <th>0.1000</th>\n",
       "      <td>0.52</td>\n",
       "      <td>0.52</td>\n",
       "    </tr>\n",
       "    <tr>\n",
       "      <th>1.0000</th>\n",
       "      <td>0.51</td>\n",
       "      <td>0.51</td>\n",
       "    </tr>\n",
       "  </tbody>\n",
       "</table>\n",
       "</div>"
      ],
      "text/plain": [
       "            mc_attack_log_50  mc_attack_eps_50\n",
       "percentile                                    \n",
       "0.0001                  0.50              0.49\n",
       "0.0010                  0.50              0.51\n",
       "0.0100                  0.51              0.50\n",
       "0.1000                  0.52              0.52\n",
       "1.0000                  0.51              0.51"
      ]
     },
     "execution_count": 6,
     "metadata": {},
     "output_type": "execute_result"
    }
   ],
   "source": [
    "pca.groupby(['percentile']).median()[['mc_attack_log_50','mc_attack_eps_50']]"
   ]
  },
  {
   "cell_type": "code",
   "execution_count": 7,
   "metadata": {},
   "outputs": [
    {
     "data": {
      "text/html": [
       "<div>\n",
       "<style scoped>\n",
       "    .dataframe tbody tr th:only-of-type {\n",
       "        vertical-align: middle;\n",
       "    }\n",
       "\n",
       "    .dataframe tbody tr th {\n",
       "        vertical-align: top;\n",
       "    }\n",
       "\n",
       "    .dataframe thead th {\n",
       "        text-align: right;\n",
       "    }\n",
       "</style>\n",
       "<table border=\"1\" class=\"dataframe\">\n",
       "  <thead>\n",
       "    <tr style=\"text-align: right;\">\n",
       "      <th></th>\n",
       "      <th>mc_attack_log_50</th>\n",
       "      <th>mc_attack_eps_50</th>\n",
       "    </tr>\n",
       "    <tr>\n",
       "      <th>percentile</th>\n",
       "      <th></th>\n",
       "      <th></th>\n",
       "    </tr>\n",
       "  </thead>\n",
       "  <tbody>\n",
       "    <tr>\n",
       "      <th>0.0001</th>\n",
       "      <td>0.500444</td>\n",
       "      <td>0.495444</td>\n",
       "    </tr>\n",
       "    <tr>\n",
       "      <th>0.0010</th>\n",
       "      <td>0.496444</td>\n",
       "      <td>0.504111</td>\n",
       "    </tr>\n",
       "    <tr>\n",
       "      <th>0.0100</th>\n",
       "      <td>0.501556</td>\n",
       "      <td>0.504111</td>\n",
       "    </tr>\n",
       "    <tr>\n",
       "      <th>0.1000</th>\n",
       "      <td>0.520222</td>\n",
       "      <td>0.517222</td>\n",
       "    </tr>\n",
       "    <tr>\n",
       "      <th>1.0000</th>\n",
       "      <td>0.510778</td>\n",
       "      <td>0.508444</td>\n",
       "    </tr>\n",
       "  </tbody>\n",
       "</table>\n",
       "</div>"
      ],
      "text/plain": [
       "            mc_attack_log_50  mc_attack_eps_50\n",
       "percentile                                    \n",
       "0.0001              0.500444          0.495444\n",
       "0.0010              0.496444          0.504111\n",
       "0.0100              0.501556          0.504111\n",
       "0.1000              0.520222          0.517222\n",
       "1.0000              0.510778          0.508444"
      ]
     },
     "execution_count": 7,
     "metadata": {},
     "output_type": "execute_result"
    }
   ],
   "source": [
    "pca.groupby(['percentile']).mean()[['mc_attack_log_50','mc_attack_eps_50']]"
   ]
  },
  {
   "cell_type": "code",
   "execution_count": 8,
   "metadata": {},
   "outputs": [
    {
     "name": "stdout",
     "output_type": "stream",
     "text": [
      "0.040444444444444456\n",
      "0.03444444444444446\n",
      "0.4444444444444444\n",
      "0.37777777777777777\n"
     ]
    }
   ],
   "source": [
    "pca_opt_perc = pca[pca.percentile == 0.1]\n",
    "\n",
    "print(pca_opt_perc.mem_inf_adv_mc_log.mean())\n",
    "print(pca_opt_perc.mem_inf_adv_mc_ones.mean())\n",
    "\n",
    "print(pca_opt_perc.set_mem_inf_adv_mc_log.mean())\n",
    "print(pca_opt_perc.set_mem_inf_adv_mc_ones.mean())\n",
    "\n",
    "#print(len(pca_opt_perc[pca_opt_perc.mc_attack_log_50>0.5])/len(pca_opt_perc))\n",
    "#print(len(pca_opt_perc[pca_opt_perc.mc_attack_eps_50>0.5])/len(pca_opt_perc))"
   ]
  },
  {
   "cell_type": "markdown",
   "metadata": {},
   "source": [
    "# PCA per Category\n",
    "0.1 mc_attack_log_50"
   ]
  },
  {
   "cell_type": "code",
   "execution_count": 9,
   "metadata": {},
   "outputs": [
    {
     "data": {
      "text/html": [
       "<div>\n",
       "<style scoped>\n",
       "    .dataframe tbody tr th:only-of-type {\n",
       "        vertical-align: middle;\n",
       "    }\n",
       "\n",
       "    .dataframe tbody tr th {\n",
       "        vertical-align: top;\n",
       "    }\n",
       "\n",
       "    .dataframe thead th {\n",
       "        text-align: right;\n",
       "    }\n",
       "</style>\n",
       "<table border=\"1\" class=\"dataframe\">\n",
       "  <thead>\n",
       "    <tr style=\"text-align: right;\">\n",
       "      <th></th>\n",
       "      <th>mc_attack_log_50</th>\n",
       "      <th>mc_attack_eps_50</th>\n",
       "    </tr>\n",
       "    <tr>\n",
       "      <th>percentile</th>\n",
       "      <th></th>\n",
       "      <th></th>\n",
       "    </tr>\n",
       "  </thead>\n",
       "  <tbody>\n",
       "    <tr>\n",
       "      <th>0.0001</th>\n",
       "      <td>0.51</td>\n",
       "      <td>0.50</td>\n",
       "    </tr>\n",
       "    <tr>\n",
       "      <th>0.0010</th>\n",
       "      <td>0.50</td>\n",
       "      <td>0.50</td>\n",
       "    </tr>\n",
       "    <tr>\n",
       "      <th>0.0100</th>\n",
       "      <td>0.50</td>\n",
       "      <td>0.49</td>\n",
       "    </tr>\n",
       "    <tr>\n",
       "      <th>0.1000</th>\n",
       "      <td>0.51</td>\n",
       "      <td>0.51</td>\n",
       "    </tr>\n",
       "    <tr>\n",
       "      <th>1.0000</th>\n",
       "      <td>0.53</td>\n",
       "      <td>0.52</td>\n",
       "    </tr>\n",
       "    <tr>\n",
       "      <th>10.0000</th>\n",
       "      <td>0.52</td>\n",
       "      <td>0.52</td>\n",
       "    </tr>\n",
       "    <tr>\n",
       "      <th>20.0000</th>\n",
       "      <td>0.52</td>\n",
       "      <td>0.51</td>\n",
       "    </tr>\n",
       "  </tbody>\n",
       "</table>\n",
       "</div>"
      ],
      "text/plain": [
       "            mc_attack_log_50  mc_attack_eps_50\n",
       "percentile                                    \n",
       "0.0001                  0.51              0.50\n",
       "0.0010                  0.50              0.50\n",
       "0.0100                  0.50              0.49\n",
       "0.1000                  0.51              0.51\n",
       "1.0000                  0.53              0.52\n",
       "10.0000                 0.52              0.52\n",
       "20.0000                 0.52              0.51"
      ]
     },
     "execution_count": 9,
     "metadata": {},
     "output_type": "execute_result"
    }
   ],
   "source": [
    "pca_cat.groupby(['percentile']).median()[['mc_attack_log_50','mc_attack_eps_50']]"
   ]
  },
  {
   "cell_type": "code",
   "execution_count": 10,
   "metadata": {
    "scrolled": true
   },
   "outputs": [
    {
     "data": {
      "text/html": [
       "<div>\n",
       "<style scoped>\n",
       "    .dataframe tbody tr th:only-of-type {\n",
       "        vertical-align: middle;\n",
       "    }\n",
       "\n",
       "    .dataframe tbody tr th {\n",
       "        vertical-align: top;\n",
       "    }\n",
       "\n",
       "    .dataframe thead th {\n",
       "        text-align: right;\n",
       "    }\n",
       "</style>\n",
       "<table border=\"1\" class=\"dataframe\">\n",
       "  <thead>\n",
       "    <tr style=\"text-align: right;\">\n",
       "      <th></th>\n",
       "      <th>mc_attack_log_50</th>\n",
       "      <th>mc_attack_eps_50</th>\n",
       "    </tr>\n",
       "    <tr>\n",
       "      <th>percentile</th>\n",
       "      <th></th>\n",
       "      <th></th>\n",
       "    </tr>\n",
       "  </thead>\n",
       "  <tbody>\n",
       "    <tr>\n",
       "      <th>0.0001</th>\n",
       "      <td>0.503333</td>\n",
       "      <td>0.499425</td>\n",
       "    </tr>\n",
       "    <tr>\n",
       "      <th>0.0010</th>\n",
       "      <td>0.501264</td>\n",
       "      <td>0.503218</td>\n",
       "    </tr>\n",
       "    <tr>\n",
       "      <th>0.0100</th>\n",
       "      <td>0.498736</td>\n",
       "      <td>0.498621</td>\n",
       "    </tr>\n",
       "    <tr>\n",
       "      <th>0.1000</th>\n",
       "      <td>0.509123</td>\n",
       "      <td>0.506901</td>\n",
       "    </tr>\n",
       "    <tr>\n",
       "      <th>1.0000</th>\n",
       "      <td>0.524094</td>\n",
       "      <td>0.521871</td>\n",
       "    </tr>\n",
       "    <tr>\n",
       "      <th>10.0000</th>\n",
       "      <td>0.516548</td>\n",
       "      <td>0.517262</td>\n",
       "    </tr>\n",
       "    <tr>\n",
       "      <th>20.0000</th>\n",
       "      <td>0.516716</td>\n",
       "      <td>0.512090</td>\n",
       "    </tr>\n",
       "  </tbody>\n",
       "</table>\n",
       "</div>"
      ],
      "text/plain": [
       "            mc_attack_log_50  mc_attack_eps_50\n",
       "percentile                                    \n",
       "0.0001              0.503333          0.499425\n",
       "0.0010              0.501264          0.503218\n",
       "0.0100              0.498736          0.498621\n",
       "0.1000              0.509123          0.506901\n",
       "1.0000              0.524094          0.521871\n",
       "10.0000             0.516548          0.517262\n",
       "20.0000             0.516716          0.512090"
      ]
     },
     "execution_count": 10,
     "metadata": {},
     "output_type": "execute_result"
    }
   ],
   "source": [
    "pca_cat.groupby(['percentile']).mean()[['mc_attack_log_50','mc_attack_eps_50']]"
   ]
  },
  {
   "cell_type": "code",
   "execution_count": 11,
   "metadata": {},
   "outputs": [
    {
     "name": "stdout",
     "output_type": "stream",
     "text": [
      "0.048187134502924\n",
      "0.043742690058479555\n",
      "0.47368421052631576\n",
      "0.4619883040935672\n"
     ]
    }
   ],
   "source": [
    "pca_cat_opt_perc = pca_cat[pca_cat.percentile == 1]\n",
    "\n",
    "print(pca_cat_opt_perc.mem_inf_adv_mc_log.mean())\n",
    "print(pca_cat_opt_perc.mem_inf_adv_mc_ones.mean())\n",
    "\n",
    "print(pca_cat_opt_perc.set_mem_inf_adv_mc_log.mean())\n",
    "print(pca_cat_opt_perc.set_mem_inf_adv_mc_ones.mean())\n",
    "\n",
    "#print(len(pca_opt_perc[pca_opt_perc.mc_attack_log_50>0.5])/len(pca_opt_perc))\n",
    "#print(len(pca_opt_perc[pca_opt_perc.mc_attack_eps_50>0.5])/len(pca_opt_perc))"
   ]
  },
  {
   "cell_type": "markdown",
   "metadata": {},
   "source": [
    "# Histogram of Gradients (HOG)\n",
    "0.01 Epsilon Method?"
   ]
  },
  {
   "cell_type": "code",
   "execution_count": 12,
   "metadata": {},
   "outputs": [
    {
     "data": {
      "text/html": [
       "<div>\n",
       "<style scoped>\n",
       "    .dataframe tbody tr th:only-of-type {\n",
       "        vertical-align: middle;\n",
       "    }\n",
       "\n",
       "    .dataframe tbody tr th {\n",
       "        vertical-align: top;\n",
       "    }\n",
       "\n",
       "    .dataframe thead th {\n",
       "        text-align: right;\n",
       "    }\n",
       "</style>\n",
       "<table border=\"1\" class=\"dataframe\">\n",
       "  <thead>\n",
       "    <tr style=\"text-align: right;\">\n",
       "      <th></th>\n",
       "      <th>mc_attack_log_50</th>\n",
       "      <th>mc_attack_eps_50</th>\n",
       "    </tr>\n",
       "    <tr>\n",
       "      <th>percentile</th>\n",
       "      <th></th>\n",
       "      <th></th>\n",
       "    </tr>\n",
       "  </thead>\n",
       "  <tbody>\n",
       "    <tr>\n",
       "      <th>0.0001</th>\n",
       "      <td>0.50</td>\n",
       "      <td>0.50</td>\n",
       "    </tr>\n",
       "    <tr>\n",
       "      <th>0.0010</th>\n",
       "      <td>0.50</td>\n",
       "      <td>0.50</td>\n",
       "    </tr>\n",
       "    <tr>\n",
       "      <th>0.0100</th>\n",
       "      <td>0.51</td>\n",
       "      <td>0.50</td>\n",
       "    </tr>\n",
       "    <tr>\n",
       "      <th>0.1000</th>\n",
       "      <td>0.51</td>\n",
       "      <td>0.51</td>\n",
       "    </tr>\n",
       "    <tr>\n",
       "      <th>1.0000</th>\n",
       "      <td>0.50</td>\n",
       "      <td>0.50</td>\n",
       "    </tr>\n",
       "  </tbody>\n",
       "</table>\n",
       "</div>"
      ],
      "text/plain": [
       "            mc_attack_log_50  mc_attack_eps_50\n",
       "percentile                                    \n",
       "0.0001                  0.50              0.50\n",
       "0.0010                  0.50              0.50\n",
       "0.0100                  0.51              0.50\n",
       "0.1000                  0.51              0.51\n",
       "1.0000                  0.50              0.50"
      ]
     },
     "execution_count": 12,
     "metadata": {},
     "output_type": "execute_result"
    }
   ],
   "source": [
    "hog.groupby(['percentile']).median()[['mc_attack_log_50','mc_attack_eps_50']]"
   ]
  },
  {
   "cell_type": "code",
   "execution_count": 13,
   "metadata": {},
   "outputs": [
    {
     "data": {
      "text/html": [
       "<div>\n",
       "<style scoped>\n",
       "    .dataframe tbody tr th:only-of-type {\n",
       "        vertical-align: middle;\n",
       "    }\n",
       "\n",
       "    .dataframe tbody tr th {\n",
       "        vertical-align: top;\n",
       "    }\n",
       "\n",
       "    .dataframe thead th {\n",
       "        text-align: right;\n",
       "    }\n",
       "</style>\n",
       "<table border=\"1\" class=\"dataframe\">\n",
       "  <thead>\n",
       "    <tr style=\"text-align: right;\">\n",
       "      <th></th>\n",
       "      <th>mc_attack_log_50</th>\n",
       "      <th>mc_attack_eps_50</th>\n",
       "    </tr>\n",
       "    <tr>\n",
       "      <th>percentile</th>\n",
       "      <th></th>\n",
       "      <th></th>\n",
       "    </tr>\n",
       "  </thead>\n",
       "  <tbody>\n",
       "    <tr>\n",
       "      <th>0.0001</th>\n",
       "      <td>0.502967</td>\n",
       "      <td>0.501648</td>\n",
       "    </tr>\n",
       "    <tr>\n",
       "      <th>0.0010</th>\n",
       "      <td>0.504396</td>\n",
       "      <td>0.500769</td>\n",
       "    </tr>\n",
       "    <tr>\n",
       "      <th>0.0100</th>\n",
       "      <td>0.507363</td>\n",
       "      <td>0.507253</td>\n",
       "    </tr>\n",
       "    <tr>\n",
       "      <th>0.1000</th>\n",
       "      <td>0.503846</td>\n",
       "      <td>0.503956</td>\n",
       "    </tr>\n",
       "    <tr>\n",
       "      <th>1.0000</th>\n",
       "      <td>0.500220</td>\n",
       "      <td>0.499341</td>\n",
       "    </tr>\n",
       "  </tbody>\n",
       "</table>\n",
       "</div>"
      ],
      "text/plain": [
       "            mc_attack_log_50  mc_attack_eps_50\n",
       "percentile                                    \n",
       "0.0001              0.502967          0.501648\n",
       "0.0010              0.504396          0.500769\n",
       "0.0100              0.507363          0.507253\n",
       "0.1000              0.503846          0.503956\n",
       "1.0000              0.500220          0.499341"
      ]
     },
     "execution_count": 13,
     "metadata": {},
     "output_type": "execute_result"
    }
   ],
   "source": [
    "hog.groupby(['percentile']).mean()[['mc_attack_log_50','mc_attack_eps_50']]"
   ]
  },
  {
   "cell_type": "code",
   "execution_count": 14,
   "metadata": {},
   "outputs": [
    {
     "name": "stdout",
     "output_type": "stream",
     "text": [
      "0.014725274725274741\n",
      "0.014505494505494524\n",
      "0.13186813186813187\n",
      "0.13186813186813187\n"
     ]
    }
   ],
   "source": [
    "hog_opt_perc = hog[hog.percentile == 0.01]\n",
    "\n",
    "print(hog_opt_perc.mem_inf_adv_mc_log.mean())\n",
    "print(hog_opt_perc.mem_inf_adv_mc_ones.mean())\n",
    "\n",
    "print(hog_opt_perc.set_mem_inf_adv_mc_log.mean())\n",
    "print(hog_opt_perc.set_mem_inf_adv_mc_ones.mean())"
   ]
  },
  {
   "cell_type": "markdown",
   "metadata": {},
   "source": [
    "# Histogram of Gradients (HOG) per category\n",
    "0.01 Epsilon Method?"
   ]
  },
  {
   "cell_type": "code",
   "execution_count": 15,
   "metadata": {},
   "outputs": [
    {
     "data": {
      "text/html": [
       "<div>\n",
       "<style scoped>\n",
       "    .dataframe tbody tr th:only-of-type {\n",
       "        vertical-align: middle;\n",
       "    }\n",
       "\n",
       "    .dataframe tbody tr th {\n",
       "        vertical-align: top;\n",
       "    }\n",
       "\n",
       "    .dataframe thead th {\n",
       "        text-align: right;\n",
       "    }\n",
       "</style>\n",
       "<table border=\"1\" class=\"dataframe\">\n",
       "  <thead>\n",
       "    <tr style=\"text-align: right;\">\n",
       "      <th></th>\n",
       "      <th>mc_attack_log_50</th>\n",
       "      <th>mc_attack_eps_50</th>\n",
       "    </tr>\n",
       "    <tr>\n",
       "      <th>percentile</th>\n",
       "      <th></th>\n",
       "      <th></th>\n",
       "    </tr>\n",
       "  </thead>\n",
       "  <tbody>\n",
       "    <tr>\n",
       "      <th>0.0001</th>\n",
       "      <td>0.500</td>\n",
       "      <td>0.505</td>\n",
       "    </tr>\n",
       "    <tr>\n",
       "      <th>0.0010</th>\n",
       "      <td>0.510</td>\n",
       "      <td>0.490</td>\n",
       "    </tr>\n",
       "    <tr>\n",
       "      <th>0.0100</th>\n",
       "      <td>0.500</td>\n",
       "      <td>0.510</td>\n",
       "    </tr>\n",
       "    <tr>\n",
       "      <th>0.1000</th>\n",
       "      <td>0.505</td>\n",
       "      <td>0.510</td>\n",
       "    </tr>\n",
       "    <tr>\n",
       "      <th>1.0000</th>\n",
       "      <td>0.510</td>\n",
       "      <td>0.500</td>\n",
       "    </tr>\n",
       "  </tbody>\n",
       "</table>\n",
       "</div>"
      ],
      "text/plain": [
       "            mc_attack_log_50  mc_attack_eps_50\n",
       "percentile                                    \n",
       "0.0001                 0.500             0.505\n",
       "0.0010                 0.510             0.490\n",
       "0.0100                 0.500             0.510\n",
       "0.1000                 0.505             0.510\n",
       "1.0000                 0.510             0.500"
      ]
     },
     "execution_count": 15,
     "metadata": {},
     "output_type": "execute_result"
    }
   ],
   "source": [
    "hog_cat.groupby(['percentile']).median()[['mc_attack_log_50','mc_attack_eps_50']]"
   ]
  },
  {
   "cell_type": "code",
   "execution_count": 16,
   "metadata": {},
   "outputs": [
    {
     "data": {
      "text/html": [
       "<div>\n",
       "<style scoped>\n",
       "    .dataframe tbody tr th:only-of-type {\n",
       "        vertical-align: middle;\n",
       "    }\n",
       "\n",
       "    .dataframe tbody tr th {\n",
       "        vertical-align: top;\n",
       "    }\n",
       "\n",
       "    .dataframe thead th {\n",
       "        text-align: right;\n",
       "    }\n",
       "</style>\n",
       "<table border=\"1\" class=\"dataframe\">\n",
       "  <thead>\n",
       "    <tr style=\"text-align: right;\">\n",
       "      <th></th>\n",
       "      <th>mc_attack_log_50</th>\n",
       "      <th>mc_attack_eps_50</th>\n",
       "    </tr>\n",
       "    <tr>\n",
       "      <th>percentile</th>\n",
       "      <th></th>\n",
       "      <th></th>\n",
       "    </tr>\n",
       "  </thead>\n",
       "  <tbody>\n",
       "    <tr>\n",
       "      <th>0.0001</th>\n",
       "      <td>0.495500</td>\n",
       "      <td>0.506375</td>\n",
       "    </tr>\n",
       "    <tr>\n",
       "      <th>0.0010</th>\n",
       "      <td>0.501875</td>\n",
       "      <td>0.497375</td>\n",
       "    </tr>\n",
       "    <tr>\n",
       "      <th>0.0100</th>\n",
       "      <td>0.506750</td>\n",
       "      <td>0.506625</td>\n",
       "    </tr>\n",
       "    <tr>\n",
       "      <th>0.1000</th>\n",
       "      <td>0.505375</td>\n",
       "      <td>0.504500</td>\n",
       "    </tr>\n",
       "    <tr>\n",
       "      <th>1.0000</th>\n",
       "      <td>0.503875</td>\n",
       "      <td>0.504500</td>\n",
       "    </tr>\n",
       "  </tbody>\n",
       "</table>\n",
       "</div>"
      ],
      "text/plain": [
       "            mc_attack_log_50  mc_attack_eps_50\n",
       "percentile                                    \n",
       "0.0001              0.495500          0.506375\n",
       "0.0010              0.501875          0.497375\n",
       "0.0100              0.506750          0.506625\n",
       "0.1000              0.505375          0.504500\n",
       "1.0000              0.503875          0.504500"
      ]
     },
     "execution_count": 16,
     "metadata": {},
     "output_type": "execute_result"
    }
   ],
   "source": [
    "hog_cat.groupby(['percentile']).mean()[['mc_attack_log_50','mc_attack_eps_50']]"
   ]
  },
  {
   "cell_type": "code",
   "execution_count": 17,
   "metadata": {},
   "outputs": [
    {
     "name": "stdout",
     "output_type": "stream",
     "text": [
      "0.007750000000000014\n",
      "0.009000000000000013\n",
      "0.125\n",
      "0.05\n"
     ]
    }
   ],
   "source": [
    "hog_cat_opt_perc = hog_cat[hog_cat.percentile == 1]\n",
    "\n",
    "print(hog_cat_opt_perc.mem_inf_adv_mc_log.mean())\n",
    "print(hog_cat_opt_perc.mem_inf_adv_mc_ones.mean())\n",
    "\n",
    "print(hog_cat_opt_perc.set_mem_inf_adv_mc_log.mean())\n",
    "print(hog_cat_opt_perc.set_mem_inf_adv_mc_ones.mean())"
   ]
  },
  {
   "cell_type": "code",
   "execution_count": 18,
   "metadata": {},
   "outputs": [],
   "source": [
    "def calc_error(data):\n",
    "    return data.std()/np.sqrt(len(data))"
   ]
  },
  {
   "cell_type": "code",
   "execution_count": 19,
   "metadata": {},
   "outputs": [
    {
     "data": {
      "image/png": "[encoded data removed]",
      "text/plain": [
       "<matplotlib.figure.Figure at 0x1fbee73ab38>"
      ]
     },
     "metadata": {},
     "output_type": "display_data"
    }
   ],
   "source": [
    "plt.rc('text', usetex=True)\n",
    "plt.rc('font', family='serif')\n",
    "plt.rcParams.update({'font.size': 20})\n",
    "\n",
    "fig = plt.figure(figsize=(14, 8))\n",
    "ax = plt.subplot(121)\n",
    "\n",
    "names = ['White-Box', 'AIS'\n",
    "         #,'MC-Distance PCA', 'MC-Environment PCA', 'MC-Distance HOG', 'MC-Environment HOG'\n",
    "        ,'MC-Distance PCA', 'MC-Environment PCA', 'MC-Distance HOG', 'MC-Environment HOG']\n",
    "N = len(names)\n",
    "ind = np.arange(N)\n",
    "\n",
    "y = [white_box.white_box_50.mean(), \n",
    "                               ais.ais_50.mean(), \n",
    "                               #pca_opt_perc.mc_attack_log_50.mean(),\n",
    "                               #pca_opt_perc.mc_attack_eps_50.mean(),\n",
    "                               #hog_opt_perc.mc_attack_log_50.mean(),\n",
    "                               #hog_opt_perc.mc_attack_eps_50.mean(),\n",
    "                               pca_cat_opt_perc.mc_attack_log_50.mean(),\n",
    "                               pca_cat_opt_perc.mc_attack_eps_50.mean(),\n",
    "                               hog_cat_opt_perc.mc_attack_log_50.mean(),\n",
    "                               hog_cat_opt_perc.mc_attack_eps_50.mean()]\n",
    "\n",
    "rects1 = ax.bar(ind,  y)\n",
    "\n",
    "e = [calc_error(white_box.white_box_50), \n",
    "                               calc_error(ais.ais_50), \n",
    "                               #calc_error(pca_opt_perc.mc_attack_log_50), \n",
    "                               #calc_error(pca_opt_perc.mc_attack_eps_50), \n",
    "                               #calc_error(hog_opt_perc.mc_attack_log_50), \n",
    "                               #calc_error(hog_opt_perc.mc_attack_eps_50),\n",
    "                               calc_error(pca_cat_opt_perc.mc_attack_log_50), \n",
    "                               calc_error(pca_cat_opt_perc.mc_attack_eps_50), \n",
    "                               calc_error(hog_cat_opt_perc.mc_attack_log_50), \n",
    "                               calc_error(hog_cat_opt_perc.mc_attack_eps_50)]\n",
    "\n",
    "plt.errorbar(ind, y, e, color='r', linestyle='None', capsize=7)\n",
    "\n",
    "\n",
    "plt.ylim(ymin=0.45)\n",
    "plt.axhline(y=0.5, color='r', linestyle='-')\n",
    "\n",
    "plt.ylabel('Accuracy (Single)', fontsize='large')\n",
    "\n",
    "ax.set_xticks(ind)\n",
    "plt.setp(ax.get_xticklabels(), rotation='70')\n",
    "\n",
    "ax.set_xticklabels(names)\n",
    "\n",
    "plt.tight_layout(pad=2, w_pad=2, h_pad=2)\n",
    "\n",
    "ax = plt.subplot(122)#, sharey=ax)\n",
    "\n",
    "ind = np.arange(N)\n",
    "\n",
    "y = [white_box.set_accuracy_wb.mean(), \n",
    "                               ais.set_accuracy_ais.mean(), \n",
    "                               #pca_opt_perc.set_accuracy_mc_log.mean(),\n",
    "                               #pca_opt_perc.set_accuracy_mc_ones.mean(),\n",
    "                               #hog_opt_perc.set_accuracy_mc_log.mean(),\n",
    "                               #hog_opt_perc.set_accuracy_mc_ones.mean(),\n",
    "                               pca_cat_opt_perc.set_accuracy_mc_log.mean(),\n",
    "                               pca_cat_opt_perc.set_accuracy_mc_ones.mean(),\n",
    "                               hog_cat_opt_perc.set_accuracy_mc_log.mean(),\n",
    "                               hog_cat_opt_perc.set_accuracy_mc_ones.mean()]\n",
    "rects1 = ax.bar(ind, y)\n",
    "\n",
    "e = [calc_error(white_box.set_accuracy_wb), \n",
    "                               calc_error(ais.set_accuracy_ais), \n",
    "                               #calc_error(pca_opt_perc.set_accuracy_mc_log), \n",
    "                               #calc_error(pca_opt_perc.set_accuracy_mc_ones), \n",
    "                               #calc_error(hog_opt_perc.set_accuracy_mc_log), \n",
    "                               #calc_error(hog_opt_perc.set_accuracy_mc_ones),\n",
    "                               calc_error(pca_cat_opt_perc.set_accuracy_mc_log), \n",
    "                               calc_error(pca_cat_opt_perc.set_accuracy_mc_ones), \n",
    "                               calc_error(hog_cat_opt_perc.set_accuracy_mc_log), \n",
    "                               calc_error(hog_cat_opt_perc.set_accuracy_mc_ones)]\n",
    "\n",
    "plt.errorbar(ind, y, e, color='r', linestyle='None', capsize=7)\n",
    "\n",
    "plt.ylabel('Accuracy (Set)', fontsize='large')\n",
    "\n",
    "plt.ylim(ymin=0.4)\n",
    "plt.axhline(y=0.5, color='r', linestyle='-')\n",
    "\n",
    "ax.set_xticks(ind)\n",
    "plt.setp(ax.get_xticklabels(), rotation='70')\n",
    "ax.set_xticklabels(names)\n",
    "\n",
    "plt.tight_layout(pad=2, w_pad=2, h_pad=2)\n",
    "plt.savefig('GAN_MNIST_Mem_Inf_10_Perc.pgf', bbox_inches=\"tight\")\n",
    "    \n",
    "plt.show()"
   ]
  },
  {
   "cell_type": "code",
   "execution_count": 20,
   "metadata": {},
   "outputs": [
    {
     "name": "stdout",
     "output_type": "stream",
     "text": [
      "91\n",
      "80\n"
     ]
    }
   ],
   "source": [
    "print(len(hog_opt_perc))\n",
    "print(len(hog_cat_opt_perc))"
   ]
  },
  {
   "cell_type": "code",
   "execution_count": 21,
   "metadata": {},
   "outputs": [
    {
     "data": {
      "image/png": "[encoded data removed]",
      "text/plain": [
       "<matplotlib.figure.Figure at 0x1fbf1a82080>"
      ]
     },
     "metadata": {},
     "output_type": "display_data"
    }
   ],
   "source": [
    "plt.rc('text', usetex=True)\n",
    "plt.rc('font', family='serif')\n",
    "plt.rcParams.update({'font.size': 20})\n",
    "\n",
    "fig = plt.figure(figsize=(14, 8))\n",
    "ax = plt.subplot(121)\n",
    "\n",
    "names = ['White-Box', 'MC-Distanz PCA', 'MC-Umgebung PCA', 'MC-Distanz HOG', 'MC-Umgebung HOG']\n",
    "N = len(names)\n",
    "ind = np.arange(N)\n",
    "\n",
    "y = [white_box.mem_inf_adv_wb.mean(), \n",
    "                               #ais.mem_inf_adv_ais.mean(), \n",
    "                               pca_cat_opt_perc.mem_inf_adv_mc_log.mean(),\n",
    "                               pca_cat_opt_perc.mem_inf_adv_mc_ones.mean(),\n",
    "                               hog_cat_opt_perc.mem_inf_adv_mc_log.mean(),\n",
    "                               hog_cat_opt_perc.mem_inf_adv_mc_ones.mean()]\n",
    "\n",
    "rects1 = ax.bar(ind,  y)\n",
    "\n",
    "e = [calc_error(white_box.mem_inf_adv_wb), \n",
    "                               #calc_error(ais.mem_inf_adv_ais), \n",
    "                               calc_error(pca_cat_opt_perc.mem_inf_adv_mc_log), \n",
    "                               calc_error(pca_cat_opt_perc.mem_inf_adv_mc_ones),\n",
    "                               calc_error(hog_cat_opt_perc.mem_inf_adv_mc_log),\n",
    "                               calc_error(hog_cat_opt_perc.mem_inf_adv_mc_ones)]\n",
    "plt.errorbar(ind, y, e, color='r', linestyle='None', capsize=7)\n",
    "\n",
    "plt.ylabel('$\\\\mathit{Adv_{Mem-Inf-Instance}}$', fontsize='large')\n",
    "\n",
    "ax.set_xticks(ind)\n",
    "plt.setp(ax.get_xticklabels(), rotation='70')\n",
    "\n",
    "ax.set_xticklabels(names)\n",
    "\n",
    "plt.tight_layout(pad=2, w_pad=2, h_pad=2)\n",
    "\n",
    "ax = plt.subplot(122)#, sharey=ax)\n",
    "\n",
    "ind = np.arange(N)\n",
    "\n",
    "y = [white_box.set_mem_inf_adv_wb.mean(), \n",
    "                               #ais.set_mem_inf_adv_ais.mean(), \n",
    "                               pca_cat_opt_perc.set_mem_inf_adv_mc_log.mean(),\n",
    "                               pca_cat_opt_perc.set_mem_inf_adv_mc_ones.mean(),\n",
    "                               hog_cat_opt_perc.set_mem_inf_adv_mc_log.mean(),\n",
    "                               hog_cat_opt_perc.set_mem_inf_adv_mc_ones.mean()]\n",
    "\n",
    "rects1 = ax.bar(ind, y)\n",
    "\n",
    "e = [calc_error(white_box.set_mem_inf_adv_wb), \n",
    "                               #calc_error(ais.mem_inf_adv_ais), \n",
    "                               calc_error(pca_cat_opt_perc.set_mem_inf_adv_mc_log), \n",
    "                               calc_error(pca_cat_opt_perc.set_mem_inf_adv_mc_ones),\n",
    "                               calc_error(hog_cat_opt_perc.set_mem_inf_adv_mc_log),\n",
    "                               calc_error(hog_cat_opt_perc.set_mem_inf_adv_mc_ones)]\n",
    "\n",
    "plt.errorbar(ind, y, e, color='r', linestyle='None', capsize=7)\n",
    "\n",
    "plt.ylabel('$\\\\mathit{Adv_{Mem-Inf-Set}}$', fontsize='large')\n",
    "\n",
    "ax.set_xticks(ind)\n",
    "plt.setp(ax.get_xticklabels(), rotation='70')\n",
    "ax.set_xticklabels(names)\n",
    "\n",
    "plt.tight_layout(pad=2, w_pad=2, h_pad=2)\n",
    "plt.savefig('GAN_MNIST_Mem_Inf_10_Perc.pgf', bbox_inches=\"tight\")\n",
    "    \n",
    "plt.show()"
   ]
  },
  {
   "cell_type": "code",
   "execution_count": null,
   "metadata": {},
   "outputs": [],
   "source": []
  }
 ],
 "metadata": {
  "kernelspec": {
   "display_name": "Python 3",
   "language": "python",
   "name": "python3"
  },
  "language_info": {
   "codemirror_mode": {
    "name": "ipython",
    "version": 3
   },
   "file_extension": ".py",
   "mimetype": "text/x-python",
   "name": "python",
   "nbconvert_exporter": "python",
   "pygments_lexer": "ipython3",
   "version": "3.5.4"
  }
 },
 "nbformat": 4,
 "nbformat_minor": 2
}
