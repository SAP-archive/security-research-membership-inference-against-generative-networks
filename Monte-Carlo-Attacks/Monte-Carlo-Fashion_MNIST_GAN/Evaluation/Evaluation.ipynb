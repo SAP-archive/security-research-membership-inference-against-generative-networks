{
 "cells": [
  {
   "cell_type": "code",
   "execution_count": 1,
   "metadata": {},
   "outputs": [],
   "source": [
    "import numpy as np\n",
    "import pandas as pd\n",
    "import matplotlib.pyplot as plt\n",
    "\n",
    "dt = np.dtype([('instance_no', int),\n",
    "               ('exp_no', int),\n",
    "               ('method', int), # 1 = white box, 2 = euclidean_PCA, 3 = hog, 4 = euclidean_PCA category, 5 = hog category, 6 = ais\n",
    "               ('pca_n', int),\n",
    "               ('percentage_of_data', float),\n",
    "               ('percentile', float),\n",
    "               ('mc_euclidean_no_batches', int), # stuff\n",
    "               ('mc_hog_no_batches', int), # stuff\n",
    "               ('sigma_ais', float),\n",
    "               ('mc_attack_log', float),\n",
    "               ('mc_attack_eps', float),\n",
    "               ('mc_attack_frac', float), \n",
    "               ('mc_attack_log_50', float), \n",
    "               ('mc_attack_eps_50', float),\n",
    "               ('mc_attack_frac_50', float),\n",
    "               ('white_box_50', float),\n",
    "               ('white_box_11', float),\n",
    "               ('ais_50', float),\n",
    "               ('ais_acc_rate_50', float),\n",
    "              ])"
   ]
  },
  {
   "cell_type": "code",
   "execution_count": 2,
   "metadata": {},
   "outputs": [],
   "source": [
    "data = pd.DataFrame(np.loadtxt('CONSOLIDATED_MC_Attacks_MNIST.csv', dtype=dt))\n",
    "\n",
    "data = data.assign(mem_inf_adv_mc_log = lambda x: (x.mc_attack_log_50-0.5)*2)\n",
    "data = data.assign(mem_inf_adv_mc_ones = lambda x: (x.mc_attack_eps_50-0.5)*2)\n",
    "data = data.assign(mem_inf_adv_wb = lambda x: (x.white_box_50-0.5)*2)\n",
    "data = data.assign(mem_inf_adv_ais = lambda x: (x.ais_50-0.5)*2)\n",
    "\n",
    "def convert_to_set_prob(x):\n",
    "    prob = np.zeros((len(x),))\n",
    "    for i in range(len(x)):\n",
    "        if x[i] > 0:\n",
    "            prob[i] = 1\n",
    "        elif x[i] == 0:\n",
    "            prob[i] = 0.5\n",
    "        elif x[i] < 0:\n",
    "            prob[i] = 0\n",
    "    return prob\n",
    "\n",
    "data = data.assign(set_accuracy_mc_log = lambda x: convert_to_set_prob(x.mem_inf_adv_mc_log))\n",
    "data = data.assign(set_accuracy_mc_ones = lambda x: convert_to_set_prob(x.mem_inf_adv_mc_ones))\n",
    "data = data.assign(set_accuracy_wb = lambda x: convert_to_set_prob(x.mem_inf_adv_wb))\n",
    "data = data.assign(set_accuracy_ais = lambda x: convert_to_set_prob(x.mem_inf_adv_ais))\n",
    "\n",
    "data = data.assign(set_mem_inf_adv_mc_log = lambda x: 2*x.set_accuracy_mc_log-1)\n",
    "data = data.assign(set_mem_inf_adv_mc_ones = lambda x: 2*x.set_accuracy_mc_ones-1)\n",
    "data = data.assign(set_mem_inf_adv_wb = lambda x: 2*x.set_accuracy_wb-1)\n",
    "data = data.assign(set_mem_inf_adv_ais = lambda x: 2*x.set_accuracy_ais-1)\n",
    "\n",
    "white_box = data[data.method == 1]\n",
    "pca = data[data.method == 2]\n",
    "hog = data[data.method == 3]\n",
    "pca_cat = data[data.method == 4]\n",
    "hog_cat = data[data.method == 5]\n",
    "\n"
   ]
  },
  {
   "cell_type": "code",
   "execution_count": 3,
   "metadata": {},
   "outputs": [],
   "source": [
    "data = pd.DataFrame(np.loadtxt('AIS_SIGMA_0.025.csv', dtype=dt))\n",
    "\n",
    "# ais sign correction\n",
    "data.loc[data.method == 6,('ais_50')] = 1-data[data.method == 6].ais_50\n",
    "#data.loc[data.method == 1,('white_box_50')] = 1-data[data.method == 1].white_box_50\n",
    "\n",
    "data = data.assign(mem_inf_adv_mc_log = lambda x: (x.mc_attack_log_50-0.5)*2)\n",
    "data = data.assign(mem_inf_adv_mc_ones = lambda x: (x.mc_attack_eps_50-0.5)*2)\n",
    "data = data.assign(mem_inf_adv_wb = lambda x: (x.white_box_50-0.5)*2)\n",
    "data = data.assign(mem_inf_adv_ais = lambda x: (x.ais_50-0.5)*2)\n",
    "\n",
    "def convert_to_set_prob(x):\n",
    "    prob = np.zeros((len(x),))\n",
    "    for i in range(len(x)):\n",
    "        if x[i] > 0:\n",
    "            prob[i] = 1\n",
    "        elif x[i] == 0:\n",
    "            prob[i] = 0.5\n",
    "        elif x[i] < 0:\n",
    "            prob[i] = 0\n",
    "    return prob\n",
    "\n",
    "data = data.assign(set_accuracy_mc_log = lambda x: convert_to_set_prob(x.mem_inf_adv_mc_log))\n",
    "data = data.assign(set_accuracy_mc_ones = lambda x: convert_to_set_prob(x.mem_inf_adv_mc_ones))\n",
    "data = data.assign(set_accuracy_wb = lambda x: convert_to_set_prob(x.mem_inf_adv_wb))\n",
    "data = data.assign(set_accuracy_ais = lambda x: convert_to_set_prob(x.mem_inf_adv_ais))\n",
    "\n",
    "data = data.assign(set_mem_inf_adv_mc_log = lambda x: 2*x.set_accuracy_mc_log-1)\n",
    "data = data.assign(set_mem_inf_adv_mc_ones = lambda x: 2*x.set_accuracy_mc_ones-1)\n",
    "data = data.assign(set_mem_inf_adv_wb = lambda x: 2*x.set_accuracy_wb-1)\n",
    "data = data.assign(set_mem_inf_adv_ais = lambda x: 2*x.set_accuracy_ais-1)\n",
    "\n",
    "ais = data[data.method == 6]\n",
    "\n"
   ]
  },
  {
   "cell_type": "markdown",
   "metadata": {},
   "source": [
    "# White Box"
   ]
  },
  {
   "cell_type": "code",
   "execution_count": 4,
   "metadata": {},
   "outputs": [
    {
     "data": {
      "text/plain": [
       "80"
      ]
     },
     "execution_count": 4,
     "metadata": {},
     "output_type": "execute_result"
    }
   ],
   "source": [
    "len(white_box)"
   ]
  },
  {
   "cell_type": "code",
   "execution_count": 5,
   "metadata": {},
   "outputs": [
    {
     "name": "stdout",
     "output_type": "stream",
     "text": [
      "0.03000000000000001\n",
      "0.2\n",
      "0.6\n"
     ]
    }
   ],
   "source": [
    "print(white_box.mem_inf_adv_wb.mean())\n",
    "print(white_box.set_mem_inf_adv_wb.mean())\n",
    "print(white_box.set_accuracy_wb.mean())"
   ]
  },
  {
   "cell_type": "markdown",
   "metadata": {},
   "source": [
    "# AIS"
   ]
  },
  {
   "cell_type": "code",
   "execution_count": 6,
   "metadata": {},
   "outputs": [
    {
     "name": "stdout",
     "output_type": "stream",
     "text": [
      "0.007692307692307702\n",
      "0.532051282051282\n"
     ]
    }
   ],
   "source": [
    "print(ais.mem_inf_adv_ais.mean())\n",
    "print(ais.set_accuracy_ais.mean())"
   ]
  },
  {
   "cell_type": "markdown",
   "metadata": {},
   "source": [
    "# PCA per Category\n",
    "0.1 mc_attack_log_50"
   ]
  },
  {
   "cell_type": "code",
   "execution_count": 7,
   "metadata": {
    "scrolled": true
   },
   "outputs": [
    {
     "data": {
      "text/html": [
       "<div>\n",
       "<style scoped>\n",
       "    .dataframe tbody tr th:only-of-type {\n",
       "        vertical-align: middle;\n",
       "    }\n",
       "\n",
       "    .dataframe tbody tr th {\n",
       "        vertical-align: top;\n",
       "    }\n",
       "\n",
       "    .dataframe thead th {\n",
       "        text-align: right;\n",
       "    }\n",
       "</style>\n",
       "<table border=\"1\" class=\"dataframe\">\n",
       "  <thead>\n",
       "    <tr style=\"text-align: right;\">\n",
       "      <th></th>\n",
       "      <th>mc_attack_log_50</th>\n",
       "      <th>mc_attack_eps_50</th>\n",
       "      <th>set_accuracy_mc_log</th>\n",
       "      <th>set_accuracy_mc_ones</th>\n",
       "    </tr>\n",
       "    <tr>\n",
       "      <th>percentile</th>\n",
       "      <th></th>\n",
       "      <th></th>\n",
       "      <th></th>\n",
       "      <th></th>\n",
       "    </tr>\n",
       "  </thead>\n",
       "  <tbody>\n",
       "    <tr>\n",
       "      <th>-1.00</th>\n",
       "      <td>51.6125</td>\n",
       "      <td>51.6125</td>\n",
       "      <td>70.00</td>\n",
       "      <td>70.000</td>\n",
       "    </tr>\n",
       "    <tr>\n",
       "      <th>0.01</th>\n",
       "      <td>51.6500</td>\n",
       "      <td>51.2000</td>\n",
       "      <td>68.75</td>\n",
       "      <td>61.875</td>\n",
       "    </tr>\n",
       "    <tr>\n",
       "      <th>0.10</th>\n",
       "      <td>51.4625</td>\n",
       "      <td>51.5250</td>\n",
       "      <td>66.25</td>\n",
       "      <td>70.000</td>\n",
       "    </tr>\n",
       "    <tr>\n",
       "      <th>1.00</th>\n",
       "      <td>51.2000</td>\n",
       "      <td>51.1625</td>\n",
       "      <td>61.25</td>\n",
       "      <td>63.125</td>\n",
       "    </tr>\n",
       "  </tbody>\n",
       "</table>\n",
       "</div>"
      ],
      "text/plain": [
       "            mc_attack_log_50  mc_attack_eps_50  set_accuracy_mc_log  \\\n",
       "percentile                                                            \n",
       "-1.00                51.6125           51.6125                70.00   \n",
       " 0.01                51.6500           51.2000                68.75   \n",
       " 0.10                51.4625           51.5250                66.25   \n",
       " 1.00                51.2000           51.1625                61.25   \n",
       "\n",
       "            set_accuracy_mc_ones  \n",
       "percentile                        \n",
       "-1.00                     70.000  \n",
       " 0.01                     61.875  \n",
       " 0.10                     70.000  \n",
       " 1.00                     63.125  "
      ]
     },
     "execution_count": 7,
     "metadata": {},
     "output_type": "execute_result"
    }
   ],
   "source": [
    "pca_cat.groupby(['percentile']).mean()[['mc_attack_log_50','mc_attack_eps_50','set_accuracy_mc_log','set_accuracy_mc_ones']]*100"
   ]
  },
  {
   "cell_type": "code",
   "execution_count": 8,
   "metadata": {},
   "outputs": [
    {
     "data": {
      "text/html": [
       "<div>\n",
       "<style scoped>\n",
       "    .dataframe tbody tr th:only-of-type {\n",
       "        vertical-align: middle;\n",
       "    }\n",
       "\n",
       "    .dataframe tbody tr th {\n",
       "        vertical-align: top;\n",
       "    }\n",
       "\n",
       "    .dataframe thead th {\n",
       "        text-align: right;\n",
       "    }\n",
       "</style>\n",
       "<table border=\"1\" class=\"dataframe\">\n",
       "  <thead>\n",
       "    <tr style=\"text-align: right;\">\n",
       "      <th></th>\n",
       "      <th>set_accuracy_mc_log</th>\n",
       "      <th>set_accuracy_mc_ones</th>\n",
       "    </tr>\n",
       "    <tr>\n",
       "      <th>percentile</th>\n",
       "      <th></th>\n",
       "      <th></th>\n",
       "    </tr>\n",
       "  </thead>\n",
       "  <tbody>\n",
       "    <tr>\n",
       "      <th>-1.00</th>\n",
       "      <td>80</td>\n",
       "      <td>80</td>\n",
       "    </tr>\n",
       "    <tr>\n",
       "      <th>0.01</th>\n",
       "      <td>80</td>\n",
       "      <td>80</td>\n",
       "    </tr>\n",
       "    <tr>\n",
       "      <th>0.10</th>\n",
       "      <td>80</td>\n",
       "      <td>80</td>\n",
       "    </tr>\n",
       "    <tr>\n",
       "      <th>1.00</th>\n",
       "      <td>80</td>\n",
       "      <td>80</td>\n",
       "    </tr>\n",
       "  </tbody>\n",
       "</table>\n",
       "</div>"
      ],
      "text/plain": [
       "            set_accuracy_mc_log  set_accuracy_mc_ones\n",
       "percentile                                           \n",
       "-1.00                        80                    80\n",
       " 0.01                        80                    80\n",
       " 0.10                        80                    80\n",
       " 1.00                        80                    80"
      ]
     },
     "execution_count": 8,
     "metadata": {},
     "output_type": "execute_result"
    }
   ],
   "source": [
    "pca_cat.groupby(['percentile']).count()[['set_accuracy_mc_log','set_accuracy_mc_ones']]"
   ]
  },
  {
   "cell_type": "code",
   "execution_count": 9,
   "metadata": {},
   "outputs": [
    {
     "name": "stdout",
     "output_type": "stream",
     "text": [
      "80\n",
      "0.03225000000000002\n",
      "0.03225000000000002\n",
      "0.7\n",
      "0.7\n"
     ]
    }
   ],
   "source": [
    "pca_cat_opt_perc = pca_cat[pca_cat.percentile == -1]\n",
    "print(len(pca_cat_opt_perc))\n",
    "\n",
    "print(pca_cat_opt_perc.mem_inf_adv_mc_log.mean())\n",
    "print(pca_cat_opt_perc.mem_inf_adv_mc_ones.mean())\n",
    "\n",
    "print(pca_cat_opt_perc.set_accuracy_mc_ones.mean())\n",
    "print(pca_cat_opt_perc.set_accuracy_mc_log.mean())\n",
    "\n",
    "#print(len(pca_opt_perc[pca_opt_perc.mc_attack_log_50>0.5])/len(pca_opt_perc))\n",
    "#print(len(pca_opt_perc[pca_opt_perc.mc_attack_eps_50>0.5])/len(pca_opt_perc))"
   ]
  },
  {
   "cell_type": "markdown",
   "metadata": {},
   "source": [
    "# Histogram of Gradients (HOG) per category\n",
    "0.01 Epsilon Method?"
   ]
  },
  {
   "cell_type": "code",
   "execution_count": 10,
   "metadata": {},
   "outputs": [
    {
     "data": {
      "text/html": [
       "<div>\n",
       "<style scoped>\n",
       "    .dataframe tbody tr th:only-of-type {\n",
       "        vertical-align: middle;\n",
       "    }\n",
       "\n",
       "    .dataframe tbody tr th {\n",
       "        vertical-align: top;\n",
       "    }\n",
       "\n",
       "    .dataframe thead th {\n",
       "        text-align: right;\n",
       "    }\n",
       "</style>\n",
       "<table border=\"1\" class=\"dataframe\">\n",
       "  <thead>\n",
       "    <tr style=\"text-align: right;\">\n",
       "      <th></th>\n",
       "      <th>mc_attack_log_50</th>\n",
       "      <th>mc_attack_eps_50</th>\n",
       "      <th>set_accuracy_mc_log</th>\n",
       "      <th>set_accuracy_mc_ones</th>\n",
       "    </tr>\n",
       "    <tr>\n",
       "      <th>percentile</th>\n",
       "      <th></th>\n",
       "      <th></th>\n",
       "      <th></th>\n",
       "      <th></th>\n",
       "    </tr>\n",
       "  </thead>\n",
       "  <tbody>\n",
       "    <tr>\n",
       "      <th>-1.00</th>\n",
       "      <td>50.589041</td>\n",
       "      <td>50.589041</td>\n",
       "      <td>57.534247</td>\n",
       "      <td>57.534247</td>\n",
       "    </tr>\n",
       "    <tr>\n",
       "      <th>0.01</th>\n",
       "      <td>50.397260</td>\n",
       "      <td>50.109589</td>\n",
       "      <td>59.589041</td>\n",
       "      <td>57.534247</td>\n",
       "    </tr>\n",
       "    <tr>\n",
       "      <th>0.10</th>\n",
       "      <td>50.657534</td>\n",
       "      <td>50.452055</td>\n",
       "      <td>57.534247</td>\n",
       "      <td>54.109589</td>\n",
       "    </tr>\n",
       "    <tr>\n",
       "      <th>1.00</th>\n",
       "      <td>50.315068</td>\n",
       "      <td>50.383562</td>\n",
       "      <td>52.739726</td>\n",
       "      <td>55.479452</td>\n",
       "    </tr>\n",
       "  </tbody>\n",
       "</table>\n",
       "</div>"
      ],
      "text/plain": [
       "            mc_attack_log_50  mc_attack_eps_50  set_accuracy_mc_log  \\\n",
       "percentile                                                            \n",
       "-1.00              50.589041         50.589041            57.534247   \n",
       " 0.01              50.397260         50.109589            59.589041   \n",
       " 0.10              50.657534         50.452055            57.534247   \n",
       " 1.00              50.315068         50.383562            52.739726   \n",
       "\n",
       "            set_accuracy_mc_ones  \n",
       "percentile                        \n",
       "-1.00                  57.534247  \n",
       " 0.01                  57.534247  \n",
       " 0.10                  54.109589  \n",
       " 1.00                  55.479452  "
      ]
     },
     "execution_count": 10,
     "metadata": {},
     "output_type": "execute_result"
    }
   ],
   "source": [
    "hog_cat.groupby(['percentile']).mean()[['mc_attack_log_50','mc_attack_eps_50','set_accuracy_mc_log','set_accuracy_mc_ones']]*100"
   ]
  },
  {
   "cell_type": "code",
   "execution_count": 11,
   "metadata": {},
   "outputs": [
    {
     "name": "stdout",
     "output_type": "stream",
     "text": [
      "0.011780821917808233\n",
      "0.011780821917808233\n",
      "0.1506849315068493\n",
      "0.5753424657534246\n"
     ]
    }
   ],
   "source": [
    "hog_cat_opt_perc = hog_cat[hog_cat.percentile == -1]\n",
    "\n",
    "print(hog_cat_opt_perc.mem_inf_adv_mc_log.mean())\n",
    "print(hog_cat_opt_perc.mem_inf_adv_mc_ones.mean())\n",
    "\n",
    "print(hog_cat_opt_perc.set_mem_inf_adv_mc_log.mean())\n",
    "print(hog_cat_opt_perc.set_accuracy_mc_ones.mean())"
   ]
  },
  {
   "cell_type": "code",
   "execution_count": 16,
   "metadata": {},
   "outputs": [
    {
     "name": "stdout",
     "output_type": "stream",
     "text": [
      "[51.5   50.385 51.613 50.589]\n",
      "[0.608 0.561 0.378 0.405]\n",
      "[60.    53.205 70.    57.534]\n",
      "[5.217 5.108 4.92  5.402]\n"
     ]
    },
    {
     "data": {
      "image/png": "[encoded data removed]",
      "text/plain": [
       "<matplotlib.figure.Figure at 0x206b828add8>"
      ]
     },
     "metadata": {},
     "output_type": "display_data"
    },
    {
     "data": {
      "image/png": "[encoded data removed]",
      "text/plain": [
       "<matplotlib.figure.Figure at 0x206b82906a0>"
      ]
     },
     "metadata": {},
     "output_type": "display_data"
    }
   ],
   "source": [
    "def calc_error(data):\n",
    "    return data.std()/np.sqrt(len(data))\n",
    "\n",
    "plt.rc('text', usetex=True)\n",
    "plt.rc('font', family='serif')\n",
    "plt.rcParams.update({'font.size': 20})\n",
    "\n",
    "f = plt.figure(figsize=(7, 7))\n",
    "ax = plt.subplot()\n",
    "\n",
    "names = ['White Box', 'AIS','MC PCA', 'MC HOG']\n",
    "N = len(names)\n",
    "ind = np.arange(N)\n",
    "\n",
    "y = [white_box.white_box_50.mean(), \n",
    "                               ais.ais_50.mean(), \n",
    "                               #pca_opt_perc.mc_attack_log_50.mean(),\n",
    "                               #pca_opt_perc.mc_attack_eps_50.mean(),\n",
    "                               #hog_opt_perc.mc_attack_log_50.mean(),\n",
    "                               #hog_opt_perc.mc_attack_eps_50.mean(),\n",
    "                               #pca_cat_opt_perc.mc_attack_log_50.mean(),\n",
    "                               pca_cat_opt_perc.mc_attack_eps_50.mean(),\n",
    "                               #hog_cat_opt_perc.mc_attack_log_50.mean(),\n",
    "                               hog_cat_opt_perc.mc_attack_eps_50.mean()]\n",
    "\n",
    "print(np.round(100*np.array(y),3))\n",
    "\n",
    "rects1 = ax.bar(ind,  y)\n",
    "\n",
    "e = [calc_error(white_box.white_box_50), \n",
    "                               calc_error(ais.ais_50), \n",
    "                               #calc_error(pca_opt_perc.mc_attack_log_50), \n",
    "                               #calc_error(pca_opt_perc.mc_attack_eps_50), \n",
    "                               #calc_error(hog_opt_perc.mc_attack_log_50), \n",
    "                               #calc_error(hog_opt_perc.mc_attack_eps_50),\n",
    "                               #calc_error(pca_cat_opt_perc.mc_attack_log_50), \n",
    "                               calc_error(pca_cat_opt_perc.mc_attack_eps_50), \n",
    "                               #calc_error(hog_cat_opt_perc.mc_attack_log_50), \n",
    "                               calc_error(hog_cat_opt_perc.mc_attack_eps_50)]\n",
    "\n",
    "print(np.round(100*np.array(e),3))\n",
    "\n",
    "np.save('y_single_cgan',y)\n",
    "np.save('e_single_cgan',e)\n",
    "\n",
    "plt.errorbar(ind, y, e, color='r', linestyle='None', capsize=7)\n",
    "\n",
    "\n",
    "plt.ylim(ymin=0.45)\n",
    "plt.axhline(y=0.5, color='r', linestyle='-')\n",
    "\n",
    "plt.ylabel('Accuracy (Single)', fontsize='large')\n",
    "\n",
    "ax.set_xticks(ind)\n",
    "plt.setp(ax.get_xticklabels(), rotation='70')\n",
    "\n",
    "ax.set_xticklabels(names)\n",
    "\n",
    "plt.tight_layout(pad=2, w_pad=2, h_pad=2)\n",
    "\n",
    "f = plt.figure(figsize=(7, 7))\n",
    "ax = plt.subplot()\n",
    "\n",
    "ind = np.arange(N)\n",
    "\n",
    "y = [white_box.set_accuracy_wb.mean(), \n",
    "                               ais.set_accuracy_ais.mean(), \n",
    "                               #pca_opt_perc.set_accuracy_mc_log.mean(),\n",
    "                               #pca_opt_perc.set_accuracy_mc_ones.mean(),\n",
    "                               #hog_opt_perc.set_accuracy_mc_log.mean(),\n",
    "                               #hog_opt_perc.set_accuracy_mc_ones.mean(),\n",
    "                               #pca_cat_opt_perc.set_accuracy_mc_log.mean(),\n",
    "                               pca_cat_opt_perc.set_accuracy_mc_ones.mean(),\n",
    "                               #hog_cat_opt_perc.set_accuracy_mc_log.mean(),\n",
    "                               hog_cat_opt_perc.set_accuracy_mc_ones.mean()]\n",
    "\n",
    "print(np.round(100*np.array(y),3))\n",
    "\n",
    "rects1 = ax.bar(ind, y)\n",
    "\n",
    "e = [calc_error(white_box.set_accuracy_wb), \n",
    "                               calc_error(ais.set_accuracy_ais), \n",
    "                               #calc_error(pca_opt_perc.set_accuracy_mc_log), \n",
    "                               #calc_error(pca_opt_perc.set_accuracy_mc_ones), \n",
    "                               #calc_error(hog_opt_perc.set_accuracy_mc_log), \n",
    "                               #calc_error(hog_opt_perc.set_accuracy_mc_ones),\n",
    "                               #calc_error(pca_cat_opt_perc.set_accuracy_mc_log), \n",
    "                               calc_error(pca_cat_opt_perc.set_accuracy_mc_ones), \n",
    "                               #calc_error(hog_cat_opt_perc.set_accuracy_mc_log), \n",
    "                               calc_error(hog_cat_opt_perc.set_accuracy_mc_ones)]\n",
    "\n",
    "print(np.round(100*np.array(e),3))\n",
    "\n",
    "np.save('y_set_cgan',y)\n",
    "np.save('e_set_cgan',e)\n",
    "\n",
    "plt.errorbar(ind, y, e, color='r', linestyle='None', capsize=7)\n",
    "\n",
    "plt.ylabel('Accuracy (Set)', fontsize='large')\n",
    "\n",
    "plt.ylim(ymin=0.4)\n",
    "plt.axhline(y=0.5, color='r', linestyle='-')\n",
    "\n",
    "ax.set_xticks(ind)\n",
    "plt.setp(ax.get_xticklabels(), rotation='70')\n",
    "ax.set_xticklabels(names)\n",
    "\n",
    "plt.tight_layout(pad=2, w_pad=2, h_pad=2)\n",
    "plt.savefig('GAN_MNIST_Mem_Inf_10_Perc.pgf', bbox_inches=\"tight\")\n",
    "    \n",
    "plt.show()"
   ]
  },
  {
   "cell_type": "code",
   "execution_count": 14,
   "metadata": {},
   "outputs": [
    {
     "name": "stdout",
     "output_type": "stream",
     "text": [
      "80\n",
      "73\n",
      "78\n",
      "80\n"
     ]
    }
   ],
   "source": [
    "print(len(pca_cat_opt_perc))\n",
    "print(len(hog_cat_opt_perc))\n",
    "print(len(ais))\n",
    "print(len(white_box))"
   ]
  },
  {
   "cell_type": "code",
   "execution_count": 15,
   "metadata": {},
   "outputs": [
    {
     "data": {
      "text/plain": [
       "set_accuracy_mc_log     0.0\n",
       "set_accuracy_mc_ones    0.0\n",
       "dtype: float64"
      ]
     },
     "execution_count": 15,
     "metadata": {},
     "output_type": "execute_result"
    }
   ],
   "source": [
    "white_box.mean()[['set_accuracy_mc_log','set_accuracy_mc_ones']]*100"
   ]
  },
  {
   "cell_type": "code",
   "execution_count": null,
   "metadata": {},
   "outputs": [],
   "source": []
  }
 ],
 "metadata": {
  "kernelspec": {
   "display_name": "Python 3",
   "language": "python",
   "name": "python3"
  },
  "language_info": {
   "codemirror_mode": {
    "name": "ipython",
    "version": 3
   },
   "file_extension": ".py",
   "mimetype": "text/x-python",
   "name": "python",
   "nbconvert_exporter": "python",
   "pygments_lexer": "ipython3",
   "version": "3.5.4"
  }
 },
 "nbformat": 4,
 "nbformat_minor": 2
}
