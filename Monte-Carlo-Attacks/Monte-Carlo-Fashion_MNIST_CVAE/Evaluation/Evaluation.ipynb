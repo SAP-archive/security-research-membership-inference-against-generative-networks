{
 "cells": [
  {
   "cell_type": "code",
   "execution_count": 1,
   "metadata": {},
   "outputs": [],
   "source": [
    "import numpy as np\n",
    "import pandas as pd\n",
    "import matplotlib.pyplot as plt\n",
    "\n",
    "dt = np.dtype([('instance_no', int),\n",
    "               ('exp_no', int),\n",
    "               ('method', int), # 1 = white box, 2 = euclidean_PCA, 3 = hog, 4 = euclidean_PCA category, 5 = hog category, 6 = ais\n",
    "               ('pca_n', int),\n",
    "               ('percentage_of_data', float),\n",
    "               ('percentile', float),\n",
    "               ('mc_euclidean_no_batches', int), # stuff\n",
    "               ('mc_hog_no_batches', int), # stuff\n",
    "               ('sigma_ais', float),\n",
    "               ('mc_attack_log', float),\n",
    "               ('mc_attack_eps', float),\n",
    "               ('mc_attack_frac', float), \n",
    "               ('mc_attack_log_50', float), \n",
    "               ('mc_attack_eps_50', float),\n",
    "               ('mc_attack_frac_50', float),\n",
    "               ('white_box_50', float),\n",
    "               ('white_box_11', float),\n",
    "               ('ais_50', float),\n",
    "               ('ais_acc_rate_50', float),\n",
    "              ])"
   ]
  },
  {
   "cell_type": "code",
   "execution_count": 5,
   "metadata": {},
   "outputs": [],
   "source": [
    "data = pd.DataFrame(np.loadtxt('MC_ATTACK_CVAE.csv', dtype=dt))\n",
    "\n",
    "# ais sign correction\n",
    "#data.loc[data.method == 6,('ais_50')] = 1-data[data.method == 6].ais_50\n",
    "#data.loc[data.method == 1,('white_box_50')] = 1-data[data.method == 1].white_box_50\n",
    "\n",
    "data = data.assign(mem_inf_adv_mc_log = lambda x: (x.mc_attack_log_50-0.5)*2)\n",
    "data = data.assign(mem_inf_adv_mc_ones = lambda x: (x.mc_attack_eps_50-0.5)*2)\n",
    "data = data.assign(mem_inf_adv_wb = lambda x: (x.white_box_50-0.5)*2)\n",
    "data = data.assign(mem_inf_adv_ais = lambda x: (x.ais_50-0.5)*2)\n",
    "\n",
    "def convert_to_set_prob(x):\n",
    "    prob = np.zeros((len(x),))\n",
    "    for i in range(len(x)):\n",
    "        if x[i] > 0:\n",
    "            prob[i] = 1\n",
    "        elif x[i] == 0:\n",
    "            prob[i] = 0.5\n",
    "        elif x[i] < 0:\n",
    "            prob[i] = 0\n",
    "    return prob\n",
    "\n",
    "data = data.assign(set_accuracy_mc_log = lambda x: convert_to_set_prob(x.mem_inf_adv_mc_log))\n",
    "data = data.assign(set_accuracy_mc_ones = lambda x: convert_to_set_prob(x.mem_inf_adv_mc_ones))\n",
    "data = data.assign(set_accuracy_wb = lambda x: convert_to_set_prob(x.mem_inf_adv_wb))\n",
    "data = data.assign(set_accuracy_ais = lambda x: convert_to_set_prob(x.mem_inf_adv_ais))\n",
    "\n",
    "data = data.assign(set_mem_inf_adv_mc_log = lambda x: 2*x.set_accuracy_mc_log-1)\n",
    "data = data.assign(set_mem_inf_adv_mc_ones = lambda x: 2*x.set_accuracy_mc_ones-1)\n",
    "data = data.assign(set_mem_inf_adv_wb = lambda x: 2*x.set_accuracy_wb-1)\n",
    "data = data.assign(set_mem_inf_adv_ais = lambda x: 2*x.set_accuracy_ais-1)\n",
    "\n",
    "white_box = data[data.method == 1]\n",
    "pca = data[data.method == 2]\n",
    "hog = data[data.method == 3]\n",
    "pca_cat = data[data.method == 4]\n",
    "hog_cat = data[data.method == 5]\n",
    "ais = data[data.method == 6]\n",
    "rec_attack = data[data.method == 42]\n"
   ]
  },
  {
   "cell_type": "markdown",
   "metadata": {},
   "source": [
    "# AIS"
   ]
  },
  {
   "cell_type": "code",
   "execution_count": 3,
   "metadata": {},
   "outputs": [
    {
     "name": "stdout",
     "output_type": "stream",
     "text": [
      "0.002564102564102578\n",
      "0.5128205128205128\n"
     ]
    }
   ],
   "source": [
    "print(ais.mem_inf_adv_ais.mean())\n",
    "print(ais.set_accuracy_ais.mean())"
   ]
  },
  {
   "cell_type": "markdown",
   "metadata": {},
   "source": [
    "## Reconstruction Attack"
   ]
  },
  {
   "cell_type": "code",
   "execution_count": 8,
   "metadata": {},
   "outputs": [
    {
     "name": "stdout",
     "output_type": "stream",
     "text": [
      "0.5688\n",
      "0.985\n"
     ]
    }
   ],
   "source": [
    "print(rec_attack.mc_attack_eps_50.mean())\n",
    "print(rec_attack.set_accuracy_mc_ones.mean())"
   ]
  },
  {
   "cell_type": "markdown",
   "metadata": {},
   "source": [
    "# White Box"
   ]
  },
  {
   "cell_type": "code",
   "execution_count": 9,
   "metadata": {},
   "outputs": [
    {
     "data": {
      "text/plain": [
       "0"
      ]
     },
     "execution_count": 9,
     "metadata": {},
     "output_type": "execute_result"
    }
   ],
   "source": [
    "len(white_box)"
   ]
  },
  {
   "cell_type": "code",
   "execution_count": 10,
   "metadata": {},
   "outputs": [
    {
     "name": "stdout",
     "output_type": "stream",
     "text": [
      "nan\n",
      "nan\n",
      "nan\n"
     ]
    }
   ],
   "source": [
    "print(white_box.mem_inf_adv_wb.mean())\n",
    "print(white_box.set_mem_inf_adv_wb.mean())\n",
    "print(white_box.set_accuracy_wb.mean())"
   ]
  },
  {
   "cell_type": "markdown",
   "metadata": {},
   "source": [
    "# PCA per Category\n",
    "0.1 mc_attack_log_50"
   ]
  },
  {
   "cell_type": "code",
   "execution_count": 11,
   "metadata": {
    "scrolled": true
   },
   "outputs": [
    {
     "data": {
      "text/html": [
       "<div>\n",
       "<style scoped>\n",
       "    .dataframe tbody tr th:only-of-type {\n",
       "        vertical-align: middle;\n",
       "    }\n",
       "\n",
       "    .dataframe tbody tr th {\n",
       "        vertical-align: top;\n",
       "    }\n",
       "\n",
       "    .dataframe thead th {\n",
       "        text-align: right;\n",
       "    }\n",
       "</style>\n",
       "<table border=\"1\" class=\"dataframe\">\n",
       "  <thead>\n",
       "    <tr style=\"text-align: right;\">\n",
       "      <th></th>\n",
       "      <th>mc_attack_log_50</th>\n",
       "      <th>mc_attack_eps_50</th>\n",
       "      <th>set_accuracy_mc_log</th>\n",
       "      <th>set_accuracy_mc_ones</th>\n",
       "    </tr>\n",
       "    <tr>\n",
       "      <th>percentile</th>\n",
       "      <th></th>\n",
       "      <th></th>\n",
       "      <th></th>\n",
       "      <th></th>\n",
       "    </tr>\n",
       "  </thead>\n",
       "  <tbody>\n",
       "    <tr>\n",
       "      <th>-1.000</th>\n",
       "      <td>54.294118</td>\n",
       "      <td>54.294118</td>\n",
       "      <td>90.000000</td>\n",
       "      <td>90.000000</td>\n",
       "    </tr>\n",
       "    <tr>\n",
       "      <th>0.001</th>\n",
       "      <td>51.288889</td>\n",
       "      <td>50.866667</td>\n",
       "      <td>65.555556</td>\n",
       "      <td>60.000000</td>\n",
       "    </tr>\n",
       "    <tr>\n",
       "      <th>0.010</th>\n",
       "      <td>53.200000</td>\n",
       "      <td>53.177778</td>\n",
       "      <td>79.444444</td>\n",
       "      <td>81.111111</td>\n",
       "    </tr>\n",
       "    <tr>\n",
       "      <th>0.100</th>\n",
       "      <td>53.111111</td>\n",
       "      <td>52.822222</td>\n",
       "      <td>76.111111</td>\n",
       "      <td>72.777778</td>\n",
       "    </tr>\n",
       "    <tr>\n",
       "      <th>1.000</th>\n",
       "      <td>51.488889</td>\n",
       "      <td>51.222222</td>\n",
       "      <td>62.777778</td>\n",
       "      <td>61.666667</td>\n",
       "    </tr>\n",
       "  </tbody>\n",
       "</table>\n",
       "</div>"
      ],
      "text/plain": [
       "            mc_attack_log_50  mc_attack_eps_50  set_accuracy_mc_log  \\\n",
       "percentile                                                            \n",
       "-1.000             54.294118         54.294118            90.000000   \n",
       " 0.001             51.288889         50.866667            65.555556   \n",
       " 0.010             53.200000         53.177778            79.444444   \n",
       " 0.100             53.111111         52.822222            76.111111   \n",
       " 1.000             51.488889         51.222222            62.777778   \n",
       "\n",
       "            set_accuracy_mc_ones  \n",
       "percentile                        \n",
       "-1.000                 90.000000  \n",
       " 0.001                 60.000000  \n",
       " 0.010                 81.111111  \n",
       " 0.100                 72.777778  \n",
       " 1.000                 61.666667  "
      ]
     },
     "execution_count": 11,
     "metadata": {},
     "output_type": "execute_result"
    }
   ],
   "source": [
    "pca_cat.groupby(['percentile']).mean()[['mc_attack_log_50','mc_attack_eps_50','set_accuracy_mc_log','set_accuracy_mc_ones']]*100"
   ]
  },
  {
   "cell_type": "code",
   "execution_count": 12,
   "metadata": {},
   "outputs": [
    {
     "data": {
      "text/html": [
       "<div>\n",
       "<style scoped>\n",
       "    .dataframe tbody tr th:only-of-type {\n",
       "        vertical-align: middle;\n",
       "    }\n",
       "\n",
       "    .dataframe tbody tr th {\n",
       "        vertical-align: top;\n",
       "    }\n",
       "\n",
       "    .dataframe thead th {\n",
       "        text-align: right;\n",
       "    }\n",
       "</style>\n",
       "<table border=\"1\" class=\"dataframe\">\n",
       "  <thead>\n",
       "    <tr style=\"text-align: right;\">\n",
       "      <th></th>\n",
       "      <th>set_accuracy_mc_log</th>\n",
       "      <th>set_accuracy_mc_ones</th>\n",
       "    </tr>\n",
       "    <tr>\n",
       "      <th>percentile</th>\n",
       "      <th></th>\n",
       "      <th></th>\n",
       "    </tr>\n",
       "  </thead>\n",
       "  <tbody>\n",
       "    <tr>\n",
       "      <th>-1.000</th>\n",
       "      <td>85</td>\n",
       "      <td>85</td>\n",
       "    </tr>\n",
       "    <tr>\n",
       "      <th>0.001</th>\n",
       "      <td>90</td>\n",
       "      <td>90</td>\n",
       "    </tr>\n",
       "    <tr>\n",
       "      <th>0.010</th>\n",
       "      <td>90</td>\n",
       "      <td>90</td>\n",
       "    </tr>\n",
       "    <tr>\n",
       "      <th>0.100</th>\n",
       "      <td>90</td>\n",
       "      <td>90</td>\n",
       "    </tr>\n",
       "    <tr>\n",
       "      <th>1.000</th>\n",
       "      <td>90</td>\n",
       "      <td>90</td>\n",
       "    </tr>\n",
       "  </tbody>\n",
       "</table>\n",
       "</div>"
      ],
      "text/plain": [
       "            set_accuracy_mc_log  set_accuracy_mc_ones\n",
       "percentile                                           \n",
       "-1.000                       85                    85\n",
       " 0.001                       90                    90\n",
       " 0.010                       90                    90\n",
       " 0.100                       90                    90\n",
       " 1.000                       90                    90"
      ]
     },
     "execution_count": 12,
     "metadata": {},
     "output_type": "execute_result"
    }
   ],
   "source": [
    "pca_cat.groupby(['percentile']).count()[['set_accuracy_mc_log','set_accuracy_mc_ones']]"
   ]
  },
  {
   "cell_type": "code",
   "execution_count": 13,
   "metadata": {},
   "outputs": [
    {
     "name": "stdout",
     "output_type": "stream",
     "text": [
      "85\n",
      "0.08588235294117649\n",
      "0.08588235294117649\n",
      "0.9\n",
      "0.9\n"
     ]
    }
   ],
   "source": [
    "pca_cat_opt_perc = pca_cat[pca_cat.percentile == -1]\n",
    "print(len(pca_cat_opt_perc))\n",
    "\n",
    "print(pca_cat_opt_perc.mem_inf_adv_mc_log.mean())\n",
    "print(pca_cat_opt_perc.mem_inf_adv_mc_ones.mean())\n",
    "\n",
    "print(pca_cat_opt_perc.set_accuracy_mc_ones.mean())\n",
    "print(pca_cat_opt_perc.set_accuracy_mc_log.mean())\n",
    "\n",
    "#print(len(pca_opt_perc[pca_opt_perc.mc_attack_log_50>0.5])/len(pca_opt_perc))\n",
    "#print(len(pca_opt_perc[pca_opt_perc.mc_attack_eps_50>0.5])/len(pca_opt_perc))"
   ]
  },
  {
   "cell_type": "markdown",
   "metadata": {},
   "source": [
    "# Histogram of Gradients (HOG) per category\n",
    "0.01 Epsilon Method?"
   ]
  },
  {
   "cell_type": "code",
   "execution_count": 14,
   "metadata": {},
   "outputs": [
    {
     "data": {
      "text/html": [
       "<div>\n",
       "<style scoped>\n",
       "    .dataframe tbody tr th:only-of-type {\n",
       "        vertical-align: middle;\n",
       "    }\n",
       "\n",
       "    .dataframe tbody tr th {\n",
       "        vertical-align: top;\n",
       "    }\n",
       "\n",
       "    .dataframe thead th {\n",
       "        text-align: right;\n",
       "    }\n",
       "</style>\n",
       "<table border=\"1\" class=\"dataframe\">\n",
       "  <thead>\n",
       "    <tr style=\"text-align: right;\">\n",
       "      <th></th>\n",
       "      <th>mc_attack_log_50</th>\n",
       "      <th>mc_attack_eps_50</th>\n",
       "      <th>set_accuracy_mc_log</th>\n",
       "      <th>set_accuracy_mc_ones</th>\n",
       "    </tr>\n",
       "    <tr>\n",
       "      <th>percentile</th>\n",
       "      <th></th>\n",
       "      <th></th>\n",
       "      <th></th>\n",
       "      <th></th>\n",
       "    </tr>\n",
       "  </thead>\n",
       "  <tbody>\n",
       "    <tr>\n",
       "      <th>-1.000</th>\n",
       "      <td>50.666667</td>\n",
       "      <td>50.666667</td>\n",
       "      <td>60.714286</td>\n",
       "      <td>60.714286</td>\n",
       "    </tr>\n",
       "    <tr>\n",
       "      <th>0.001</th>\n",
       "      <td>49.752809</td>\n",
       "      <td>50.516854</td>\n",
       "      <td>49.438202</td>\n",
       "      <td>55.617978</td>\n",
       "    </tr>\n",
       "    <tr>\n",
       "      <th>0.010</th>\n",
       "      <td>50.449438</td>\n",
       "      <td>50.123596</td>\n",
       "      <td>57.303371</td>\n",
       "      <td>53.370787</td>\n",
       "    </tr>\n",
       "    <tr>\n",
       "      <th>0.100</th>\n",
       "      <td>50.752809</td>\n",
       "      <td>50.651685</td>\n",
       "      <td>63.483146</td>\n",
       "      <td>61.235955</td>\n",
       "    </tr>\n",
       "    <tr>\n",
       "      <th>1.000</th>\n",
       "      <td>50.494382</td>\n",
       "      <td>50.460674</td>\n",
       "      <td>58.426966</td>\n",
       "      <td>60.674157</td>\n",
       "    </tr>\n",
       "  </tbody>\n",
       "</table>\n",
       "</div>"
      ],
      "text/plain": [
       "            mc_attack_log_50  mc_attack_eps_50  set_accuracy_mc_log  \\\n",
       "percentile                                                            \n",
       "-1.000             50.666667         50.666667            60.714286   \n",
       " 0.001             49.752809         50.516854            49.438202   \n",
       " 0.010             50.449438         50.123596            57.303371   \n",
       " 0.100             50.752809         50.651685            63.483146   \n",
       " 1.000             50.494382         50.460674            58.426966   \n",
       "\n",
       "            set_accuracy_mc_ones  \n",
       "percentile                        \n",
       "-1.000                 60.714286  \n",
       " 0.001                 55.617978  \n",
       " 0.010                 53.370787  \n",
       " 0.100                 61.235955  \n",
       " 1.000                 60.674157  "
      ]
     },
     "execution_count": 14,
     "metadata": {},
     "output_type": "execute_result"
    }
   ],
   "source": [
    "hog_cat.groupby(['percentile']).mean()[['mc_attack_log_50','mc_attack_eps_50','set_accuracy_mc_log','set_accuracy_mc_ones']]*100"
   ]
  },
  {
   "cell_type": "code",
   "execution_count": 15,
   "metadata": {},
   "outputs": [
    {
     "name": "stdout",
     "output_type": "stream",
     "text": [
      "0.013333333333333353\n",
      "0.013333333333333353\n",
      "0.21428571428571427\n",
      "0.6071428571428571\n"
     ]
    }
   ],
   "source": [
    "hog_cat_opt_perc = hog_cat[hog_cat.percentile == -1]\n",
    "\n",
    "print(hog_cat_opt_perc.mem_inf_adv_mc_log.mean())\n",
    "print(hog_cat_opt_perc.mem_inf_adv_mc_ones.mean())\n",
    "\n",
    "print(hog_cat_opt_perc.set_mem_inf_adv_mc_log.mean())\n",
    "print(hog_cat_opt_perc.set_accuracy_mc_ones.mean())"
   ]
  },
  {
   "cell_type": "code",
   "execution_count": 16,
   "metadata": {},
   "outputs": [],
   "source": [
    "def calc_error(data):\n",
    "    return data.std()/np.sqrt(len(data))"
   ]
  },
  {
   "cell_type": "code",
   "execution_count": 20,
   "metadata": {},
   "outputs": [
    {
     "name": "stdout",
     "output_type": "stream",
     "text": [
      "[56.88  54.294 50.667]\n",
      "[0.353 0.378 0.425]\n",
      "[98.5   90.    60.714]\n",
      "[0.857 2.994 5.086]\n"
     ]
    },
    {
     "data": {
      "image/png": "[encoded data removed]",
      "text/plain": [
       "<matplotlib.figure.Figure at 0x1c86dbe5c50>"
      ]
     },
     "metadata": {},
     "output_type": "display_data"
    },
    {
     "data": {
      "image/png": "[encoded data removed]",
      "text/plain": [
       "<matplotlib.figure.Figure at 0x1c86aabf748>"
      ]
     },
     "metadata": {},
     "output_type": "display_data"
    }
   ],
   "source": [
    "plt.rc('text', usetex=True)\n",
    "plt.rc('font', family='serif')\n",
    "plt.rcParams.update({'font.size': 20})\n",
    "\n",
    "f = plt.figure(figsize=(7, 7))\n",
    "ax = plt.subplot()\n",
    "\n",
    "names = ['Reconstruction Attack','MC PCA', 'MC HOG']\n",
    "N = len(names)\n",
    "ind = np.arange(N)\n",
    "\n",
    "y = [#white_box.white_box_50.mean(), \n",
    "                               rec_attack.mc_attack_eps_50.mean(), \n",
    "                               #pca_opt_perc.mc_attack_log_50.mean(),\n",
    "                               #pca_opt_perc.mc_attack_eps_50.mean(),\n",
    "                               #hog_opt_perc.mc_attack_log_50.mean(),\n",
    "                               #hog_opt_perc.mc_attack_eps_50.mean(),\n",
    "                               pca_cat_opt_perc.mc_attack_log_50.mean(),\n",
    "                               #pca_cat_opt_perc.mc_attack_eps_50.mean(),\n",
    "                               hog_cat_opt_perc.mc_attack_log_50.mean()]\n",
    "                               #hog_cat_opt_perc.mc_attack_eps_50.mean()]\n",
    "    \n",
    "print(np.round(100*np.array(y),3))\n",
    "\n",
    "rects1 = ax.bar(ind,  y)\n",
    "\n",
    "e = [#calc_error(white_box.white_box_50), \n",
    "                               calc_error(rec_attack.mc_attack_eps_50), \n",
    "                               #calc_error(pca_opt_perc.mc_attack_log_50), \n",
    "                               #calc_error(pca_opt_perc.mc_attack_eps_50), \n",
    "                               #calc_error(hog_opt_perc.mc_attack_log_50), \n",
    "                               #calc_error(hog_opt_perc.mc_attack_eps_50),\n",
    "                               calc_error(pca_cat_opt_perc.mc_attack_log_50), \n",
    "                               #calc_error(pca_cat_opt_perc.mc_attack_eps_50), \n",
    "                               calc_error(hog_cat_opt_perc.mc_attack_log_50)] \n",
    "                               #calc_error(hog_cat_opt_perc.mc_attack_eps_50)]\n",
    "\n",
    "print(np.round(100*np.array(e),3))\n",
    "    \n",
    "np.save('y_single_cvae',y)\n",
    "np.save('e_single_cvae',e)\n",
    "\n",
    "plt.errorbar(ind, y, e, color='r', linestyle='None', capsize=7)\n",
    "\n",
    "\n",
    "plt.ylim(ymin=0.45)\n",
    "plt.axhline(y=0.5, color='r', linestyle='-')\n",
    "\n",
    "plt.ylabel('Accuracy (Single)', fontsize='large')\n",
    "\n",
    "ax.set_xticks(ind)\n",
    "plt.setp(ax.get_xticklabels(), rotation='70')\n",
    "\n",
    "ax.set_xticklabels(names)\n",
    "\n",
    "plt.tight_layout(pad=2, w_pad=2, h_pad=2)\n",
    "\n",
    "f = plt.figure(figsize=(7, 7))\n",
    "ax = plt.subplot()\n",
    "\n",
    "ind = np.arange(N)\n",
    "\n",
    "y = [#white_box.set_accuracy_wb.mean(), \n",
    "                               rec_attack.set_accuracy_mc_ones.mean(), \n",
    "                               #pca_opt_perc.set_accuracy_mc_log.mean(),\n",
    "                               #pca_opt_perc.set_accuracy_mc_ones.mean(),\n",
    "                               #hog_opt_perc.set_accuracy_mc_log.mean(),\n",
    "                               #hog_opt_perc.set_accuracy_mc_ones.mean(),\n",
    "                               pca_cat_opt_perc.set_accuracy_mc_log.mean(),\n",
    "                               #pca_cat_opt_perc.set_accuracy_mc_ones.mean(),\n",
    "                               hog_cat_opt_perc.set_accuracy_mc_log.mean()]\n",
    "                               #hog_cat_opt_perc.set_accuracy_mc_ones.mean()]\n",
    "    \n",
    "print(np.round(100*np.array(y),3))\n",
    "rects1 = ax.bar(ind, y)\n",
    "\n",
    "e = [#calc_error(white_box.set_accuracy_wb), \n",
    "                               calc_error(rec_attack.set_accuracy_mc_ones), \n",
    "                               #calc_error(pca_opt_perc.set_accuracy_mc_log), \n",
    "                               #calc_error(pca_opt_perc.set_accuracy_mc_ones), \n",
    "                               #calc_error(hog_opt_perc.set_accuracy_mc_log), \n",
    "                               #calc_error(hog_opt_perc.set_accuracy_mc_ones),\n",
    "                               calc_error(pca_cat_opt_perc.set_accuracy_mc_log), \n",
    "                               #calc_error(pca_cat_opt_perc.set_accuracy_mc_ones), \n",
    "                               calc_error(hog_cat_opt_perc.set_accuracy_mc_log)]\n",
    "                               #calc_error(hog_cat_opt_perc.set_accuracy_mc_ones)]\n",
    "    \n",
    "print(np.round(100*np.array(e),3))\n",
    "\n",
    "np.save('y_set_cvae',y)\n",
    "np.save('e_set_cvae',e)\n",
    "\n",
    "plt.errorbar(ind, y, e, color='r', linestyle='None', capsize=7)\n",
    "\n",
    "plt.ylabel('Accuracy (Set)', fontsize='large')\n",
    "\n",
    "plt.ylim(ymin=0.4)\n",
    "plt.axhline(y=0.5, color='r', linestyle='-')\n",
    "\n",
    "ax.set_xticks(ind)\n",
    "plt.setp(ax.get_xticklabels(), rotation='70')\n",
    "ax.set_xticklabels(names)\n",
    "\n",
    "plt.tight_layout(pad=2, w_pad=2, h_pad=2)\n",
    "plt.savefig('GAN_MNIST_Mem_Inf_10_Perc.pgf', bbox_inches=\"tight\")\n",
    "    \n",
    "plt.show()"
   ]
  },
  {
   "cell_type": "code",
   "execution_count": 13,
   "metadata": {},
   "outputs": [
    {
     "name": "stdout",
     "output_type": "stream",
     "text": [
      "85\n",
      "84\n",
      "78\n",
      "0\n"
     ]
    }
   ],
   "source": [
    "print(len(pca_cat_opt_perc))\n",
    "print(len(hog_cat_opt_perc))\n",
    "print(len(ais))\n",
    "print(len(white_box))"
   ]
  },
  {
   "cell_type": "code",
   "execution_count": null,
   "metadata": {},
   "outputs": [],
   "source": []
  },
  {
   "cell_type": "code",
   "execution_count": null,
   "metadata": {},
   "outputs": [],
   "source": []
  }
 ],
 "metadata": {
  "kernelspec": {
   "display_name": "Python 3",
   "language": "python",
   "name": "python3"
  },
  "language_info": {
   "codemirror_mode": {
    "name": "ipython",
    "version": 3
   },
   "file_extension": ".py",
   "mimetype": "text/x-python",
   "name": "python",
   "nbconvert_exporter": "python",
   "pygments_lexer": "ipython3",
   "version": "3.5.4"
  }
 },
 "nbformat": 4,
 "nbformat_minor": 2
}
